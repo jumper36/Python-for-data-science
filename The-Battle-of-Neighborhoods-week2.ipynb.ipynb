{
    "cells": [
        {
            "metadata": {
                "collapsed": true
            },
            "cell_type": "markdown",
            "source": "<a href=\"https://cognitiveclass.ai\"><img src = \"https://ibm.box.com/shared/static/9gegpsmnsoo25ikkbl4qzlvlyjbgxs5x.png\" width = 400> </a>\n\n<h1 align=center><font size = 5>Capstone Project - The Battle of Neighborhoods (Week 2)</font></h1>\n"
        },
        {
            "metadata": {},
            "cell_type": "markdown",
            "source": "## Table of Contents\n\n1. <a href=\"#item1\">Introduction.</a>\n2. <a href=\"#item2\">Data.</a>  \n3. <a href=\"#item3\">Methodology.</a>  \n4. <a href=\"#item4\">Result.</a>  \n5. <a href=\"#item5\">Discussion and Conclusion.</a>  "
        },
        {
            "metadata": {},
            "cell_type": "markdown",
            "source": "<h3>Instructions</h3>\n<p>In this week, you will continue working on your capstone project. Please remember by the end of this week, you will need to submit the following :</p>\n\n1. A full report consisting of all of the following components : <br/>\n<ul>\n<li>Introduction where you discuss the business problem and who would be interested in this project.</li><br/>\n<li>Data where you describe the data that will be used to solve the problem and the source of the data.</li><br/>\n<li>Methodology section which represents the main component of the report where you discuss and describe any exploratory data analysis that you did, any <li>inferential statistical testing that you performed, if any, and what machine learnings were used and why.</li><br/>\n<li>Results section where you discuss the results.</li><br/>\n<li>Discussion section where you discuss any observations you noted and any recommendations you can make based on the results.</li><br/>\n    <li>Conclusion section where you conclude the report.</li><br/>\n</ul>\n2. A link to your Notebook on your Github repository pushed showing your code.<br/>\n\n3. Your choice of a presentation or blogpost.<br/>\n\nHere are examples of previous outstanding submissions that should give you an idea of what your report would look like, what your notebook would look like in terms of clean, clear, and well-commented code, and what your presentation would look like or your blogpost would look like :\n<ul>\n    <li>Report : https://cocl.us/coursera_capstone_report </li>\n    <li>Notebook : https://cocl.us/coursera_capstone_notebook </li>\n    <li>Presentation : https://cocl.us/coursera_capstone_presentation </li>\n    <li>Blogpost : https://cocl.us/coursera_capstone_blogpost </li>\n</ul>    "
        },
        {
            "metadata": {},
            "cell_type": "markdown",
            "source": "<h2>1. Introduction</h2>\n\n<h3>1.1 Description of the Problem</h3>\n<p>The population of London has grown considerably over the last decades. London is very diverse. It represents what is called the reflection of the old British Empire. In London, you can get fresh from food supplies from Africa. One begins to wonder the efficiency of the supply mechanism.</p>\n\n<p>The real deal is that as much as there are many fine restaurants in London \u2013 Asian, Middle Eastern, Latin and American restaurants, you can struggle to find good place to dine in the finest of West African cuisine that has combination of Nigerian, Ghanaian, Cameroonian, Senegalese and more.</p>\n\n<h3>1.2 Discussion of the Background</h3>\n<p>My client, a successful restaurant chain in Africa is looking to expand operation into Europe through London. They want to create a high-end restaurant that comes with organic mix and healthy. Their target is not only West Africans, but they are pro-organic and healthy eating. To them every meal counts and counts as a royal when you eat.</p>\n\n<p>Since the London demography is so big, my client needs deeper insight from available data in other to decide where to establish the first Europe \u201cpalace\u201d restaurant. This company spends a lot on research and provides customers with data insight into the ingredients used at restaurants.</p>\n\n<h3>1.3 Target Audience</h3>\n<p>Considering the diversity of London, there is a high multicultural sense. London is a place where different shades live. As such, in the search for an high-end African-inclined restaurant, there is a high shortage.</p>"
        },
        {
            "metadata": {},
            "cell_type": "markdown",
            "source": "<h2>2. Data</h2>\n<h3>2.1 Description of the Data</h3><br/>\nThis project will rely on public data from Wikipedia and Foursquare.<br/>\n\n### a. Frist dataset\u00b6\nIn this project, London will be used as synonymous to the \"Greater London Area\" in this project. Within the Greater London Area, there are areas that are within the London Area Postcode. The focus of this project will be the nieghbourhoods are that are within the London Post Code area.<br/>\n\nThe London Area consists of 32 Boroughs and the \"City of London\". Our data will be from the link - Greater London Area https://en.wikipedia.org/wiki/List_of_areas_of_London<br/>\n\nA sample of the web scrapped of the Wikipedia page for the Greater London Area data is provided below :"
        },
        {
            "metadata": {},
            "cell_type": "code",
            "source": "# library for BeautifulSoup\nfrom bs4 import BeautifulSoup\n\n# library to handle data in a vectorized manner\nimport numpy as np\n\n# library for data analsysis\nimport pandas as pd\npd.set_option('display.max_columns', None)\npd.set_option('display.max_rows', None)\n\n# library to handle JSON files\nimport json\nprint('numpy, pandas, ..., imported...')\n\n!pip -q install geopy\n# conda install -c conda-forge geopy --yes # uncomment this line if you haven't completed the Foursquare API lab\nprint('geopy installed...')\n# convert an address into latitude and longitude values\nfrom geopy.geocoders import Nominatim\nprint('Nominatim imported...')\n\n# library to handle requests\nimport requests\nprint('requests imported...')\n\n# tranform JSON file into a pandas dataframe\nfrom pandas.io.json import json_normalize\nprint('json_normalize imported...')\n\n# Matplotlib and associated plotting modules\nimport matplotlib.cm as cm\nimport matplotlib.colors as colors\nprint('matplotlib imported...')\n\n# import k-means from clustering stage\nfrom sklearn.cluster import KMeans\nprint('Kmeans imported...')\n\n# install the Geocoder\n!pip -q install geocoder\nimport geocoder\n\n# import time\nimport time\n\n# !conda install -c conda-forge folium=0.5.0 --yes # uncomment this line if you haven't completed the Foursquare API lab\n!pip -q install folium\nprint('folium installed...')\nimport folium # map rendering library\nprint('folium imported...')\nprint('...Done')\n",
            "execution_count": 1,
            "outputs": [
                {
                    "output_type": "stream",
                    "text": "numpy, pandas, ..., imported...\ngeopy installed...\nNominatim imported...\nrequests imported...\njson_normalize imported...\nmatplotlib imported...\nKmeans imported...\nfolium installed...\nfolium imported...\n...Done\n",
                    "name": "stdout"
                }
            ]
        },
        {
            "metadata": {},
            "cell_type": "code",
            "source": "wikipedia_link = 'https://en.wikipedia.org/wiki/List_of_areas_of_London'\nheaders = {'User-Agent': 'Mozilla/5.0 (Windows NT 10.0; Win64; x64; rv:64.0) Gecko/20100101 Firefox/64.0'}\nwikipedia_page = requests.get(wikipedia_link, headers = headers)\nwikipedia_page",
            "execution_count": 2,
            "outputs": [
                {
                    "output_type": "execute_result",
                    "execution_count": 2,
                    "data": {
                        "text/plain": "<Response [200]>"
                    },
                    "metadata": {}
                }
            ]
        },
        {
            "metadata": {},
            "cell_type": "code",
            "source": "# Cleans html file\nsoup = BeautifulSoup(wikipedia_page.content, 'html.parser')\n# This extracts the \"tbody\" within the table where class is \"wikitable sortable\"\ntable = soup.find('table', {'class':'wikitable sortable'}).tbody",
            "execution_count": 3,
            "outputs": []
        },
        {
            "metadata": {},
            "cell_type": "code",
            "source": "# Extracts all \"tr\" (table rows) within the table above\nrows = table.find_all('tr')",
            "execution_count": 4,
            "outputs": []
        },
        {
            "metadata": {},
            "cell_type": "code",
            "source": "# Extracts the column headers, removes and replaces possible '\\n' with space for the \"th\" tag\ncolumns = [i.text.replace('\\n', '')\n           for i in rows[0].find_all('th')]",
            "execution_count": 5,
            "outputs": []
        },
        {
            "metadata": {},
            "cell_type": "code",
            "source": "# Converts columns to pd dataframe\ndf = pd.DataFrame(columns = columns)\ndf",
            "execution_count": 6,
            "outputs": [
                {
                    "output_type": "execute_result",
                    "execution_count": 6,
                    "data": {
                        "text/plain": "Empty DataFrame\nColumns: [Location, London\u00a0borough, Post town, Postcode\u00a0district, Dial\u00a0code, OS grid ref]\nIndex: []",
                        "text/html": "<div>\n<style scoped>\n    .dataframe tbody tr th:only-of-type {\n        vertical-align: middle;\n    }\n\n    .dataframe tbody tr th {\n        vertical-align: top;\n    }\n\n    .dataframe thead th {\n        text-align: right;\n    }\n</style>\n<table border=\"1\" class=\"dataframe\">\n  <thead>\n    <tr style=\"text-align: right;\">\n      <th></th>\n      <th>Location</th>\n      <th>London\u00a0borough</th>\n      <th>Post town</th>\n      <th>Postcode\u00a0district</th>\n      <th>Dial\u00a0code</th>\n      <th>OS grid ref</th>\n    </tr>\n  </thead>\n  <tbody>\n  </tbody>\n</table>\n</div>"
                    },
                    "metadata": {}
                }
            ]
        },
        {
            "metadata": {},
            "cell_type": "code",
            "source": "# Extracts every row with corresponding columns\n# Then appends the values to the create pd dataframe \"df\"\n# Please note that the first row (row[0]) is skipped because it is already the header\nfor i in range(1, len(rows)):\n    tds = rows[i].find_all('td')\n    \n    \n    if len(tds) == 7:\n        values = [tds[0].text, tds[1].text, tds[2].text.replace('\\n', ''.replace('\\xa0','')), tds[3].text, tds[4].text.replace('\\n', ''.replace('\\xa0','')), tds[5].text.replace('\\n', ''.replace('\\xa0','')), tds[6].text.replace('\\n', ''.replace('\\xa0',''))]\n    else:\n        values = [td.text.replace('\\n', '').replace('\\xa0','') for td in tds]\n        \n        df = df.append(pd.Series(values, index = columns), ignore_index = True)\n\n        df",
            "execution_count": 7,
            "outputs": []
        },
        {
            "metadata": {},
            "cell_type": "code",
            "source": "df.head()",
            "execution_count": 8,
            "outputs": [
                {
                    "output_type": "execute_result",
                    "execution_count": 8,
                    "data": {
                        "text/plain": "      Location                     London\u00a0borough       Post town  \\\n0   Abbey Wood             Bexley,  Greenwich [7]          LONDON   \n1        Acton  Ealing, Hammersmith and Fulham[8]          LONDON   \n2    Addington                         Croydon[8]         CROYDON   \n3   Addiscombe                         Croydon[8]         CROYDON   \n4  Albany Park                             Bexley  BEXLEY, SIDCUP   \n\n  Postcode\u00a0district Dial\u00a0code OS grid ref  \n0               SE2       020    TQ465785  \n1            W3, W4       020    TQ205805  \n2               CR0       020    TQ375645  \n3               CR0       020    TQ345665  \n4         DA5, DA14       020    TQ478728  ",
                        "text/html": "<div>\n<style scoped>\n    .dataframe tbody tr th:only-of-type {\n        vertical-align: middle;\n    }\n\n    .dataframe tbody tr th {\n        vertical-align: top;\n    }\n\n    .dataframe thead th {\n        text-align: right;\n    }\n</style>\n<table border=\"1\" class=\"dataframe\">\n  <thead>\n    <tr style=\"text-align: right;\">\n      <th></th>\n      <th>Location</th>\n      <th>London\u00a0borough</th>\n      <th>Post town</th>\n      <th>Postcode\u00a0district</th>\n      <th>Dial\u00a0code</th>\n      <th>OS grid ref</th>\n    </tr>\n  </thead>\n  <tbody>\n    <tr>\n      <th>0</th>\n      <td>Abbey Wood</td>\n      <td>Bexley,  Greenwich [7]</td>\n      <td>LONDON</td>\n      <td>SE2</td>\n      <td>020</td>\n      <td>TQ465785</td>\n    </tr>\n    <tr>\n      <th>1</th>\n      <td>Acton</td>\n      <td>Ealing, Hammersmith and Fulham[8]</td>\n      <td>LONDON</td>\n      <td>W3, W4</td>\n      <td>020</td>\n      <td>TQ205805</td>\n    </tr>\n    <tr>\n      <th>2</th>\n      <td>Addington</td>\n      <td>Croydon[8]</td>\n      <td>CROYDON</td>\n      <td>CR0</td>\n      <td>020</td>\n      <td>TQ375645</td>\n    </tr>\n    <tr>\n      <th>3</th>\n      <td>Addiscombe</td>\n      <td>Croydon[8]</td>\n      <td>CROYDON</td>\n      <td>CR0</td>\n      <td>020</td>\n      <td>TQ345665</td>\n    </tr>\n    <tr>\n      <th>4</th>\n      <td>Albany Park</td>\n      <td>Bexley</td>\n      <td>BEXLEY, SIDCUP</td>\n      <td>DA5, DA14</td>\n      <td>020</td>\n      <td>TQ478728</td>\n    </tr>\n  </tbody>\n</table>\n</div>"
                    },
                    "metadata": {}
                }
            ]
        },
        {
            "metadata": {},
            "cell_type": "code",
            "source": "df = df.rename(index=str, columns = {'Location': 'Location', 'London\\xa0borough': 'Borough', 'Post town': 'Post-town', 'Postcode\\xa0district': 'Postcode', 'Dial\\xa0code': 'Dial-code', 'OS grid ref': 'OSGridRef'})",
            "execution_count": 9,
            "outputs": []
        },
        {
            "metadata": {},
            "cell_type": "code",
            "source": "df.head()",
            "execution_count": 10,
            "outputs": [
                {
                    "output_type": "execute_result",
                    "execution_count": 10,
                    "data": {
                        "text/plain": "      Location                            Borough       Post-town   Postcode  \\\n0   Abbey Wood             Bexley,  Greenwich [7]          LONDON        SE2   \n1        Acton  Ealing, Hammersmith and Fulham[8]          LONDON     W3, W4   \n2    Addington                         Croydon[8]         CROYDON        CR0   \n3   Addiscombe                         Croydon[8]         CROYDON        CR0   \n4  Albany Park                             Bexley  BEXLEY, SIDCUP  DA5, DA14   \n\n  Dial-code OSGridRef  \n0       020  TQ465785  \n1       020  TQ205805  \n2       020  TQ375645  \n3       020  TQ345665  \n4       020  TQ478728  ",
                        "text/html": "<div>\n<style scoped>\n    .dataframe tbody tr th:only-of-type {\n        vertical-align: middle;\n    }\n\n    .dataframe tbody tr th {\n        vertical-align: top;\n    }\n\n    .dataframe thead th {\n        text-align: right;\n    }\n</style>\n<table border=\"1\" class=\"dataframe\">\n  <thead>\n    <tr style=\"text-align: right;\">\n      <th></th>\n      <th>Location</th>\n      <th>Borough</th>\n      <th>Post-town</th>\n      <th>Postcode</th>\n      <th>Dial-code</th>\n      <th>OSGridRef</th>\n    </tr>\n  </thead>\n  <tbody>\n    <tr>\n      <th>0</th>\n      <td>Abbey Wood</td>\n      <td>Bexley,  Greenwich [7]</td>\n      <td>LONDON</td>\n      <td>SE2</td>\n      <td>020</td>\n      <td>TQ465785</td>\n    </tr>\n    <tr>\n      <th>1</th>\n      <td>Acton</td>\n      <td>Ealing, Hammersmith and Fulham[8]</td>\n      <td>LONDON</td>\n      <td>W3, W4</td>\n      <td>020</td>\n      <td>TQ205805</td>\n    </tr>\n    <tr>\n      <th>2</th>\n      <td>Addington</td>\n      <td>Croydon[8]</td>\n      <td>CROYDON</td>\n      <td>CR0</td>\n      <td>020</td>\n      <td>TQ375645</td>\n    </tr>\n    <tr>\n      <th>3</th>\n      <td>Addiscombe</td>\n      <td>Croydon[8]</td>\n      <td>CROYDON</td>\n      <td>CR0</td>\n      <td>020</td>\n      <td>TQ345665</td>\n    </tr>\n    <tr>\n      <th>4</th>\n      <td>Albany Park</td>\n      <td>Bexley</td>\n      <td>BEXLEY, SIDCUP</td>\n      <td>DA5, DA14</td>\n      <td>020</td>\n      <td>TQ478728</td>\n    </tr>\n  </tbody>\n</table>\n</div>"
                    },
                    "metadata": {}
                }
            ]
        },
        {
            "metadata": {},
            "cell_type": "markdown",
            "source": "Looking the data, under the Borough, there are borough names with []. These are references extracted from the wiki page. So remove these, the following was done :"
        },
        {
            "metadata": {},
            "cell_type": "code",
            "source": "df['Borough'] = df['Borough'].map(lambda x: x.rstrip(']').rstrip('0123456789').rstrip('['))",
            "execution_count": 11,
            "outputs": []
        },
        {
            "metadata": {},
            "cell_type": "code",
            "source": "df.shape",
            "execution_count": 12,
            "outputs": [
                {
                    "output_type": "execute_result",
                    "execution_count": 12,
                    "data": {
                        "text/plain": "(533, 6)"
                    },
                    "metadata": {}
                }
            ]
        },
        {
            "metadata": {},
            "cell_type": "code",
            "source": "df.head()",
            "execution_count": 13,
            "outputs": [
                {
                    "output_type": "execute_result",
                    "execution_count": 13,
                    "data": {
                        "text/plain": "      Location                         Borough       Post-town   Postcode  \\\n0   Abbey Wood             Bexley,  Greenwich           LONDON        SE2   \n1        Acton  Ealing, Hammersmith and Fulham          LONDON     W3, W4   \n2    Addington                         Croydon         CROYDON        CR0   \n3   Addiscombe                         Croydon         CROYDON        CR0   \n4  Albany Park                          Bexley  BEXLEY, SIDCUP  DA5, DA14   \n\n  Dial-code OSGridRef  \n0       020  TQ465785  \n1       020  TQ205805  \n2       020  TQ375645  \n3       020  TQ345665  \n4       020  TQ478728  ",
                        "text/html": "<div>\n<style scoped>\n    .dataframe tbody tr th:only-of-type {\n        vertical-align: middle;\n    }\n\n    .dataframe tbody tr th {\n        vertical-align: top;\n    }\n\n    .dataframe thead th {\n        text-align: right;\n    }\n</style>\n<table border=\"1\" class=\"dataframe\">\n  <thead>\n    <tr style=\"text-align: right;\">\n      <th></th>\n      <th>Location</th>\n      <th>Borough</th>\n      <th>Post-town</th>\n      <th>Postcode</th>\n      <th>Dial-code</th>\n      <th>OSGridRef</th>\n    </tr>\n  </thead>\n  <tbody>\n    <tr>\n      <th>0</th>\n      <td>Abbey Wood</td>\n      <td>Bexley,  Greenwich</td>\n      <td>LONDON</td>\n      <td>SE2</td>\n      <td>020</td>\n      <td>TQ465785</td>\n    </tr>\n    <tr>\n      <th>1</th>\n      <td>Acton</td>\n      <td>Ealing, Hammersmith and Fulham</td>\n      <td>LONDON</td>\n      <td>W3, W4</td>\n      <td>020</td>\n      <td>TQ205805</td>\n    </tr>\n    <tr>\n      <th>2</th>\n      <td>Addington</td>\n      <td>Croydon</td>\n      <td>CROYDON</td>\n      <td>CR0</td>\n      <td>020</td>\n      <td>TQ375645</td>\n    </tr>\n    <tr>\n      <th>3</th>\n      <td>Addiscombe</td>\n      <td>Croydon</td>\n      <td>CROYDON</td>\n      <td>CR0</td>\n      <td>020</td>\n      <td>TQ345665</td>\n    </tr>\n    <tr>\n      <th>4</th>\n      <td>Albany Park</td>\n      <td>Bexley</td>\n      <td>BEXLEY, SIDCUP</td>\n      <td>DA5, DA14</td>\n      <td>020</td>\n      <td>TQ478728</td>\n    </tr>\n  </tbody>\n</table>\n</div>"
                    },
                    "metadata": {}
                }
            ]
        },
        {
            "metadata": {},
            "cell_type": "markdown",
            "source": "London is big and due to the limitations in the number of calls for the Foursquare API, the following assumptions are made to confine this project to only South East London.<br/>\n\n<strong>Assumption 1 :</strong> Where the Postcode are more than one, (for example, in Acton, there are 2 postcodes - W3 and W4), the postcodes are spread to multi-rows and assigned the same values from the other columns."
        },
        {
            "metadata": {},
            "cell_type": "code",
            "source": "df0 = df.drop('Postcode', axis=1).join(df['Postcode'].str.split(',', expand=True).stack().reset_index(level=1, drop=True).rename('Postcode'))",
            "execution_count": 14,
            "outputs": []
        },
        {
            "metadata": {},
            "cell_type": "code",
            "source": "df0.head()",
            "execution_count": 15,
            "outputs": [
                {
                    "output_type": "execute_result",
                    "execution_count": 15,
                    "data": {
                        "text/plain": "      Location                         Borough Post-town Dial-code OSGridRef  \\\n0   Abbey Wood             Bexley,  Greenwich     LONDON       020  TQ465785   \n1        Acton  Ealing, Hammersmith and Fulham    LONDON       020  TQ205805   \n1        Acton  Ealing, Hammersmith and Fulham    LONDON       020  TQ205805   \n10       Angel                       Islington    LONDON       020  TQ345665   \n10       Angel                       Islington    LONDON       020  TQ345665   \n\n   Postcode  \n0       SE2  \n1        W3  \n1        W4  \n10      EC1  \n10       N1  ",
                        "text/html": "<div>\n<style scoped>\n    .dataframe tbody tr th:only-of-type {\n        vertical-align: middle;\n    }\n\n    .dataframe tbody tr th {\n        vertical-align: top;\n    }\n\n    .dataframe thead th {\n        text-align: right;\n    }\n</style>\n<table border=\"1\" class=\"dataframe\">\n  <thead>\n    <tr style=\"text-align: right;\">\n      <th></th>\n      <th>Location</th>\n      <th>Borough</th>\n      <th>Post-town</th>\n      <th>Dial-code</th>\n      <th>OSGridRef</th>\n      <th>Postcode</th>\n    </tr>\n  </thead>\n  <tbody>\n    <tr>\n      <th>0</th>\n      <td>Abbey Wood</td>\n      <td>Bexley,  Greenwich</td>\n      <td>LONDON</td>\n      <td>020</td>\n      <td>TQ465785</td>\n      <td>SE2</td>\n    </tr>\n    <tr>\n      <th>1</th>\n      <td>Acton</td>\n      <td>Ealing, Hammersmith and Fulham</td>\n      <td>LONDON</td>\n      <td>020</td>\n      <td>TQ205805</td>\n      <td>W3</td>\n    </tr>\n    <tr>\n      <th>1</th>\n      <td>Acton</td>\n      <td>Ealing, Hammersmith and Fulham</td>\n      <td>LONDON</td>\n      <td>020</td>\n      <td>TQ205805</td>\n      <td>W4</td>\n    </tr>\n    <tr>\n      <th>10</th>\n      <td>Angel</td>\n      <td>Islington</td>\n      <td>LONDON</td>\n      <td>020</td>\n      <td>TQ345665</td>\n      <td>EC1</td>\n    </tr>\n    <tr>\n      <th>10</th>\n      <td>Angel</td>\n      <td>Islington</td>\n      <td>LONDON</td>\n      <td>020</td>\n      <td>TQ345665</td>\n      <td>N1</td>\n    </tr>\n  </tbody>\n</table>\n</div>"
                    },
                    "metadata": {}
                }
            ]
        },
        {
            "metadata": {},
            "cell_type": "code",
            "source": "df0.shape",
            "execution_count": 16,
            "outputs": [
                {
                    "output_type": "execute_result",
                    "execution_count": 16,
                    "data": {
                        "text/plain": "(637, 6)"
                    },
                    "metadata": {}
                }
            ]
        },
        {
            "metadata": {},
            "cell_type": "markdown",
            "source": "As seen above, there are separate rows for Postcodes - W3and W4; same goes for the others too.<br/>\n\n<strong>Assumption 2 :</strong> From the data, only the 'Location', 'Borough', 'Postcode', 'Post-town' will be used for this project. So they are extracted into a new data frame."
        },
        {
            "metadata": {},
            "cell_type": "code",
            "source": "df1 = df0[['Location', 'Borough', 'Postcode', 'Post-town']].reset_index(drop=True)",
            "execution_count": 17,
            "outputs": []
        },
        {
            "metadata": {},
            "cell_type": "code",
            "source": "df1.head()",
            "execution_count": 18,
            "outputs": [
                {
                    "output_type": "execute_result",
                    "execution_count": 18,
                    "data": {
                        "text/plain": "     Location                         Borough Postcode Post-town\n0  Abbey Wood             Bexley,  Greenwich       SE2    LONDON\n1       Acton  Ealing, Hammersmith and Fulham       W3    LONDON\n2       Acton  Ealing, Hammersmith and Fulham       W4    LONDON\n3       Angel                       Islington      EC1    LONDON\n4       Angel                       Islington       N1    LONDON",
                        "text/html": "<div>\n<style scoped>\n    .dataframe tbody tr th:only-of-type {\n        vertical-align: middle;\n    }\n\n    .dataframe tbody tr th {\n        vertical-align: top;\n    }\n\n    .dataframe thead th {\n        text-align: right;\n    }\n</style>\n<table border=\"1\" class=\"dataframe\">\n  <thead>\n    <tr style=\"text-align: right;\">\n      <th></th>\n      <th>Location</th>\n      <th>Borough</th>\n      <th>Postcode</th>\n      <th>Post-town</th>\n    </tr>\n  </thead>\n  <tbody>\n    <tr>\n      <th>0</th>\n      <td>Abbey Wood</td>\n      <td>Bexley,  Greenwich</td>\n      <td>SE2</td>\n      <td>LONDON</td>\n    </tr>\n    <tr>\n      <th>1</th>\n      <td>Acton</td>\n      <td>Ealing, Hammersmith and Fulham</td>\n      <td>W3</td>\n      <td>LONDON</td>\n    </tr>\n    <tr>\n      <th>2</th>\n      <td>Acton</td>\n      <td>Ealing, Hammersmith and Fulham</td>\n      <td>W4</td>\n      <td>LONDON</td>\n    </tr>\n    <tr>\n      <th>3</th>\n      <td>Angel</td>\n      <td>Islington</td>\n      <td>EC1</td>\n      <td>LONDON</td>\n    </tr>\n    <tr>\n      <th>4</th>\n      <td>Angel</td>\n      <td>Islington</td>\n      <td>N1</td>\n      <td>LONDON</td>\n    </tr>\n  </tbody>\n</table>\n</div>"
                    },
                    "metadata": {}
                }
            ]
        },
        {
            "metadata": {},
            "cell_type": "code",
            "source": "df1.shape",
            "execution_count": 19,
            "outputs": [
                {
                    "output_type": "execute_result",
                    "execution_count": 19,
                    "data": {
                        "text/plain": "(637, 4)"
                    },
                    "metadata": {}
                }
            ]
        },
        {
            "metadata": {},
            "cell_type": "markdown",
            "source": "<strong>Assumption 3 :</strong> Now, only the Boroughs with London Post-town will be used for our search of location. Therefore, all the non-post-town are dropped."
        },
        {
            "metadata": {},
            "cell_type": "code",
            "source": "df2 = df1\ndf21 = df2[df2['Post-town'].str.contains('LONDON')]",
            "execution_count": 20,
            "outputs": []
        },
        {
            "metadata": {},
            "cell_type": "code",
            "source": "df21.head()",
            "execution_count": 21,
            "outputs": [
                {
                    "output_type": "execute_result",
                    "execution_count": 21,
                    "data": {
                        "text/plain": "     Location                         Borough Postcode Post-town\n0  Abbey Wood             Bexley,  Greenwich       SE2    LONDON\n1       Acton  Ealing, Hammersmith and Fulham       W3    LONDON\n2       Acton  Ealing, Hammersmith and Fulham       W4    LONDON\n3       Angel                       Islington      EC1    LONDON\n4       Angel                       Islington       N1    LONDON",
                        "text/html": "<div>\n<style scoped>\n    .dataframe tbody tr th:only-of-type {\n        vertical-align: middle;\n    }\n\n    .dataframe tbody tr th {\n        vertical-align: top;\n    }\n\n    .dataframe thead th {\n        text-align: right;\n    }\n</style>\n<table border=\"1\" class=\"dataframe\">\n  <thead>\n    <tr style=\"text-align: right;\">\n      <th></th>\n      <th>Location</th>\n      <th>Borough</th>\n      <th>Postcode</th>\n      <th>Post-town</th>\n    </tr>\n  </thead>\n  <tbody>\n    <tr>\n      <th>0</th>\n      <td>Abbey Wood</td>\n      <td>Bexley,  Greenwich</td>\n      <td>SE2</td>\n      <td>LONDON</td>\n    </tr>\n    <tr>\n      <th>1</th>\n      <td>Acton</td>\n      <td>Ealing, Hammersmith and Fulham</td>\n      <td>W3</td>\n      <td>LONDON</td>\n    </tr>\n    <tr>\n      <th>2</th>\n      <td>Acton</td>\n      <td>Ealing, Hammersmith and Fulham</td>\n      <td>W4</td>\n      <td>LONDON</td>\n    </tr>\n    <tr>\n      <th>3</th>\n      <td>Angel</td>\n      <td>Islington</td>\n      <td>EC1</td>\n      <td>LONDON</td>\n    </tr>\n    <tr>\n      <th>4</th>\n      <td>Angel</td>\n      <td>Islington</td>\n      <td>N1</td>\n      <td>LONDON</td>\n    </tr>\n  </tbody>\n</table>\n</div>"
                    },
                    "metadata": {}
                }
            ]
        },
        {
            "metadata": {},
            "cell_type": "code",
            "source": "df21.shape",
            "execution_count": 22,
            "outputs": [
                {
                    "output_type": "execute_result",
                    "execution_count": 22,
                    "data": {
                        "text/plain": "(381, 4)"
                    },
                    "metadata": {}
                }
            ]
        },
        {
            "metadata": {},
            "cell_type": "markdown",
            "source": "From assumption 3, there are now 380 instances, which is a drop from 638 because of the drop of non-London post-towns."
        },
        {
            "metadata": {},
            "cell_type": "code",
            "source": "# Re-assigns the df21 to new dataframe without the Post-town\ndf3 = df21[['Location', 'Borough', 'Postcode']].reset_index(drop=True)",
            "execution_count": 23,
            "outputs": []
        },
        {
            "metadata": {},
            "cell_type": "code",
            "source": "df3.head(10)",
            "execution_count": 24,
            "outputs": [
                {
                    "output_type": "execute_result",
                    "execution_count": 24,
                    "data": {
                        "text/plain": "      Location                         Borough Postcode\n0   Abbey Wood             Bexley,  Greenwich       SE2\n1        Acton  Ealing, Hammersmith and Fulham       W3\n2        Acton  Ealing, Hammersmith and Fulham       W4\n3        Angel                       Islington      EC1\n4        Angel                       Islington       N1\n5   Church End                           Brent     NW10\n6   Church End                          Barnet       N3\n7      Clapham             Lambeth, Wandsworth      SW4\n8  Clerkenwell                       Islington      EC1\n9    Colindale                          Barnet      NW9",
                        "text/html": "<div>\n<style scoped>\n    .dataframe tbody tr th:only-of-type {\n        vertical-align: middle;\n    }\n\n    .dataframe tbody tr th {\n        vertical-align: top;\n    }\n\n    .dataframe thead th {\n        text-align: right;\n    }\n</style>\n<table border=\"1\" class=\"dataframe\">\n  <thead>\n    <tr style=\"text-align: right;\">\n      <th></th>\n      <th>Location</th>\n      <th>Borough</th>\n      <th>Postcode</th>\n    </tr>\n  </thead>\n  <tbody>\n    <tr>\n      <th>0</th>\n      <td>Abbey Wood</td>\n      <td>Bexley,  Greenwich</td>\n      <td>SE2</td>\n    </tr>\n    <tr>\n      <th>1</th>\n      <td>Acton</td>\n      <td>Ealing, Hammersmith and Fulham</td>\n      <td>W3</td>\n    </tr>\n    <tr>\n      <th>2</th>\n      <td>Acton</td>\n      <td>Ealing, Hammersmith and Fulham</td>\n      <td>W4</td>\n    </tr>\n    <tr>\n      <th>3</th>\n      <td>Angel</td>\n      <td>Islington</td>\n      <td>EC1</td>\n    </tr>\n    <tr>\n      <th>4</th>\n      <td>Angel</td>\n      <td>Islington</td>\n      <td>N1</td>\n    </tr>\n    <tr>\n      <th>5</th>\n      <td>Church End</td>\n      <td>Brent</td>\n      <td>NW10</td>\n    </tr>\n    <tr>\n      <th>6</th>\n      <td>Church End</td>\n      <td>Barnet</td>\n      <td>N3</td>\n    </tr>\n    <tr>\n      <th>7</th>\n      <td>Clapham</td>\n      <td>Lambeth, Wandsworth</td>\n      <td>SW4</td>\n    </tr>\n    <tr>\n      <th>8</th>\n      <td>Clerkenwell</td>\n      <td>Islington</td>\n      <td>EC1</td>\n    </tr>\n    <tr>\n      <th>9</th>\n      <td>Colindale</td>\n      <td>Barnet</td>\n      <td>NW9</td>\n    </tr>\n  </tbody>\n</table>\n</div>"
                    },
                    "metadata": {}
                }
            ]
        },
        {
            "metadata": {},
            "cell_type": "code",
            "source": "df_london = df3\ndf_london.to_csv('LondonLocations.csv', index = False)",
            "execution_count": 25,
            "outputs": []
        },
        {
            "metadata": {},
            "cell_type": "markdown",
            "source": "<strong>Assumption 4 :</strong> Due to its more diverse outlook, proximity to afro-caribbean markets and accessible facilities, only the South East areas of London will be considered for our analysis. The South East areas has postcodes starting with SE.<br/>\n\nSo, first, we remove the whitesapaces at the start of some of the postcodes and then drop the other non-SE postcodes."
        },
        {
            "metadata": {},
            "cell_type": "code",
            "source": "df_london.head()",
            "execution_count": 26,
            "outputs": [
                {
                    "output_type": "execute_result",
                    "execution_count": 26,
                    "data": {
                        "text/plain": "     Location                         Borough Postcode\n0  Abbey Wood             Bexley,  Greenwich       SE2\n1       Acton  Ealing, Hammersmith and Fulham       W3\n2       Acton  Ealing, Hammersmith and Fulham       W4\n3       Angel                       Islington      EC1\n4       Angel                       Islington       N1",
                        "text/html": "<div>\n<style scoped>\n    .dataframe tbody tr th:only-of-type {\n        vertical-align: middle;\n    }\n\n    .dataframe tbody tr th {\n        vertical-align: top;\n    }\n\n    .dataframe thead th {\n        text-align: right;\n    }\n</style>\n<table border=\"1\" class=\"dataframe\">\n  <thead>\n    <tr style=\"text-align: right;\">\n      <th></th>\n      <th>Location</th>\n      <th>Borough</th>\n      <th>Postcode</th>\n    </tr>\n  </thead>\n  <tbody>\n    <tr>\n      <th>0</th>\n      <td>Abbey Wood</td>\n      <td>Bexley,  Greenwich</td>\n      <td>SE2</td>\n    </tr>\n    <tr>\n      <th>1</th>\n      <td>Acton</td>\n      <td>Ealing, Hammersmith and Fulham</td>\n      <td>W3</td>\n    </tr>\n    <tr>\n      <th>2</th>\n      <td>Acton</td>\n      <td>Ealing, Hammersmith and Fulham</td>\n      <td>W4</td>\n    </tr>\n    <tr>\n      <th>3</th>\n      <td>Angel</td>\n      <td>Islington</td>\n      <td>EC1</td>\n    </tr>\n    <tr>\n      <th>4</th>\n      <td>Angel</td>\n      <td>Islington</td>\n      <td>N1</td>\n    </tr>\n  </tbody>\n</table>\n</div>"
                    },
                    "metadata": {}
                }
            ]
        },
        {
            "metadata": {},
            "cell_type": "code",
            "source": "df_london.Postcode = df_london.Postcode.str.strip()",
            "execution_count": 27,
            "outputs": []
        },
        {
            "metadata": {},
            "cell_type": "code",
            "source": "df_london.head()",
            "execution_count": 28,
            "outputs": [
                {
                    "output_type": "execute_result",
                    "execution_count": 28,
                    "data": {
                        "text/plain": "     Location                         Borough Postcode\n0  Abbey Wood             Bexley,  Greenwich       SE2\n1       Acton  Ealing, Hammersmith and Fulham       W3\n2       Acton  Ealing, Hammersmith and Fulham       W4\n3       Angel                       Islington      EC1\n4       Angel                       Islington       N1",
                        "text/html": "<div>\n<style scoped>\n    .dataframe tbody tr th:only-of-type {\n        vertical-align: middle;\n    }\n\n    .dataframe tbody tr th {\n        vertical-align: top;\n    }\n\n    .dataframe thead th {\n        text-align: right;\n    }\n</style>\n<table border=\"1\" class=\"dataframe\">\n  <thead>\n    <tr style=\"text-align: right;\">\n      <th></th>\n      <th>Location</th>\n      <th>Borough</th>\n      <th>Postcode</th>\n    </tr>\n  </thead>\n  <tbody>\n    <tr>\n      <th>0</th>\n      <td>Abbey Wood</td>\n      <td>Bexley,  Greenwich</td>\n      <td>SE2</td>\n    </tr>\n    <tr>\n      <th>1</th>\n      <td>Acton</td>\n      <td>Ealing, Hammersmith and Fulham</td>\n      <td>W3</td>\n    </tr>\n    <tr>\n      <th>2</th>\n      <td>Acton</td>\n      <td>Ealing, Hammersmith and Fulham</td>\n      <td>W4</td>\n    </tr>\n    <tr>\n      <th>3</th>\n      <td>Angel</td>\n      <td>Islington</td>\n      <td>EC1</td>\n    </tr>\n    <tr>\n      <th>4</th>\n      <td>Angel</td>\n      <td>Islington</td>\n      <td>N1</td>\n    </tr>\n  </tbody>\n</table>\n</div>"
                    },
                    "metadata": {}
                }
            ]
        },
        {
            "metadata": {},
            "cell_type": "code",
            "source": "# New dataframe for South East London postcodes - df_se\ndf_se = df_london[df_london['Postcode'].str.startswith(('SE'))].reset_index(drop=True)",
            "execution_count": 29,
            "outputs": []
        },
        {
            "metadata": {},
            "cell_type": "code",
            "source": "df_se.head(10)",
            "execution_count": 30,
            "outputs": [
                {
                    "output_type": "execute_result",
                    "execution_count": 30,
                    "data": {
                        "text/plain": "         Location              Borough Postcode\n0      Abbey Wood  Bexley,  Greenwich       SE2\n1    Crofton Park             Lewisham      SE4\n2       Crossness               Bexley      SE2\n3  Crystal Palace              Bromley     SE19\n4  Crystal Palace              Bromley     SE20\n5  Crystal Palace              Bromley     SE26\n6    Denmark Hill            Southwark      SE5\n7        Deptford             Lewisham      SE8\n8         Dulwich            Southwark     SE21\n9    East Dulwich            Southwark     SE22",
                        "text/html": "<div>\n<style scoped>\n    .dataframe tbody tr th:only-of-type {\n        vertical-align: middle;\n    }\n\n    .dataframe tbody tr th {\n        vertical-align: top;\n    }\n\n    .dataframe thead th {\n        text-align: right;\n    }\n</style>\n<table border=\"1\" class=\"dataframe\">\n  <thead>\n    <tr style=\"text-align: right;\">\n      <th></th>\n      <th>Location</th>\n      <th>Borough</th>\n      <th>Postcode</th>\n    </tr>\n  </thead>\n  <tbody>\n    <tr>\n      <th>0</th>\n      <td>Abbey Wood</td>\n      <td>Bexley,  Greenwich</td>\n      <td>SE2</td>\n    </tr>\n    <tr>\n      <th>1</th>\n      <td>Crofton Park</td>\n      <td>Lewisham</td>\n      <td>SE4</td>\n    </tr>\n    <tr>\n      <th>2</th>\n      <td>Crossness</td>\n      <td>Bexley</td>\n      <td>SE2</td>\n    </tr>\n    <tr>\n      <th>3</th>\n      <td>Crystal Palace</td>\n      <td>Bromley</td>\n      <td>SE19</td>\n    </tr>\n    <tr>\n      <th>4</th>\n      <td>Crystal Palace</td>\n      <td>Bromley</td>\n      <td>SE20</td>\n    </tr>\n    <tr>\n      <th>5</th>\n      <td>Crystal Palace</td>\n      <td>Bromley</td>\n      <td>SE26</td>\n    </tr>\n    <tr>\n      <th>6</th>\n      <td>Denmark Hill</td>\n      <td>Southwark</td>\n      <td>SE5</td>\n    </tr>\n    <tr>\n      <th>7</th>\n      <td>Deptford</td>\n      <td>Lewisham</td>\n      <td>SE8</td>\n    </tr>\n    <tr>\n      <th>8</th>\n      <td>Dulwich</td>\n      <td>Southwark</td>\n      <td>SE21</td>\n    </tr>\n    <tr>\n      <th>9</th>\n      <td>East Dulwich</td>\n      <td>Southwark</td>\n      <td>SE22</td>\n    </tr>\n  </tbody>\n</table>\n</div>"
                    },
                    "metadata": {}
                }
            ]
        },
        {
            "metadata": {},
            "cell_type": "markdown",
            "source": "Now, our data is ready. df_se is the data we will focus on.<br/>\n\n<strong>Assumption 5 :</strong> This assumption will focus on the demography of London where there are predominantly more multicultural groups. According to the proportion of races by London borough as seen in Demography of London, the top 5 Black Africans or Caribbeans are shown below :"
        },
        {
            "metadata": {},
            "cell_type": "code",
            "source": "demograph_link = 'https://en.wikipedia.org/wiki/Demography_of_London'\nheaders = {'User-Agent': 'Mozilla/5.0 (Windows NT 10.0; Win64; x64; rv:64.0) Gecko/20100101 Firefox/64.0'}\ndemograph_page = requests.get(demograph_link, headers = headers)\nsoup1 = BeautifulSoup(demograph_page.content, 'html.parser')\ntable1 = soup1.find('table', {'class':'wikitable sortable'}).tbody\nrows1 = table1.find_all('tr')\ncolumns1 = [i.text.replace('\\n', '')\n           for i in rows1[0].find_all('th')]\ncolumns1",
            "execution_count": 32,
            "outputs": [
                {
                    "output_type": "execute_result",
                    "execution_count": 32,
                    "data": {
                        "text/plain": "['Local authority', 'White', 'Mixed', 'Asian', 'Black', 'Other']"
                    },
                    "metadata": {}
                }
            ]
        },
        {
            "metadata": {},
            "cell_type": "code",
            "source": "demo_london = pd.DataFrame(columns = columns1)\ndemo_london.head()",
            "execution_count": 34,
            "outputs": [
                {
                    "output_type": "execute_result",
                    "execution_count": 34,
                    "data": {
                        "text/plain": "Empty DataFrame\nColumns: [Local authority, White, Mixed, Asian, Black, Other]\nIndex: []",
                        "text/html": "<div>\n<style scoped>\n    .dataframe tbody tr th:only-of-type {\n        vertical-align: middle;\n    }\n\n    .dataframe tbody tr th {\n        vertical-align: top;\n    }\n\n    .dataframe thead th {\n        text-align: right;\n    }\n</style>\n<table border=\"1\" class=\"dataframe\">\n  <thead>\n    <tr style=\"text-align: right;\">\n      <th></th>\n      <th>Local authority</th>\n      <th>White</th>\n      <th>Mixed</th>\n      <th>Asian</th>\n      <th>Black</th>\n      <th>Other</th>\n    </tr>\n  </thead>\n  <tbody>\n  </tbody>\n</table>\n</div>"
                    },
                    "metadata": {}
                }
            ]
        },
        {
            "metadata": {},
            "cell_type": "code",
            "source": "for j in range(1, len(rows1)):\n    tds1 = rows1[j].find_all('td')\n    if len(tds1) == 7:\n        values1 = [tds1[0].text, tds1[1].text, tds1[2].text.replace('\\n', ''.replace('\\xa0','')), tds1[3].text, tds1[4].text.replace('\\n', ''.replace('\\xa0','')), tds1[5].text.replace('\\n', ''.replace('\\xa0',''))]\n    else:\n        values1 = [td1.text.replace('\\n', '').replace('\\xa0','') for td1 in tds1]\n        \n        demo_london = demo_london.append(pd.Series(values1, index = columns1), ignore_index = True)\n\n        demo_london",
            "execution_count": 35,
            "outputs": []
        },
        {
            "metadata": {},
            "cell_type": "code",
            "source": "demo_london['Black'] = demo_london['Black'].astype('float')",
            "execution_count": 36,
            "outputs": []
        },
        {
            "metadata": {},
            "cell_type": "code",
            "source": "demo_london_sorted = demo_london.sort_values(by='Black', ascending = False)",
            "execution_count": 37,
            "outputs": []
        },
        {
            "metadata": {},
            "cell_type": "code",
            "source": "demo_london_sorted.head()",
            "execution_count": 38,
            "outputs": [
                {
                    "output_type": "execute_result",
                    "execution_count": 38,
                    "data": {
                        "text/plain": "   Local authority White Mixed Asian  Black Other\n22        Lewisham  53.5   7.4   9.3   27.2   2.6\n27       Southwark  54.3   6.2   9.4   26.9   3.3\n21         Lambeth  57.1   7.6   6.9   25.9   2.4\n11         Hackney  54.7   6.4  10.5   23.1   5.3\n7          Croydon  55.1   6.6  16.4   20.2   1.8",
                        "text/html": "<div>\n<style scoped>\n    .dataframe tbody tr th:only-of-type {\n        vertical-align: middle;\n    }\n\n    .dataframe tbody tr th {\n        vertical-align: top;\n    }\n\n    .dataframe thead th {\n        text-align: right;\n    }\n</style>\n<table border=\"1\" class=\"dataframe\">\n  <thead>\n    <tr style=\"text-align: right;\">\n      <th></th>\n      <th>Local authority</th>\n      <th>White</th>\n      <th>Mixed</th>\n      <th>Asian</th>\n      <th>Black</th>\n      <th>Other</th>\n    </tr>\n  </thead>\n  <tbody>\n    <tr>\n      <th>22</th>\n      <td>Lewisham</td>\n      <td>53.5</td>\n      <td>7.4</td>\n      <td>9.3</td>\n      <td>27.2</td>\n      <td>2.6</td>\n    </tr>\n    <tr>\n      <th>27</th>\n      <td>Southwark</td>\n      <td>54.3</td>\n      <td>6.2</td>\n      <td>9.4</td>\n      <td>26.9</td>\n      <td>3.3</td>\n    </tr>\n    <tr>\n      <th>21</th>\n      <td>Lambeth</td>\n      <td>57.1</td>\n      <td>7.6</td>\n      <td>6.9</td>\n      <td>25.9</td>\n      <td>2.4</td>\n    </tr>\n    <tr>\n      <th>11</th>\n      <td>Hackney</td>\n      <td>54.7</td>\n      <td>6.4</td>\n      <td>10.5</td>\n      <td>23.1</td>\n      <td>5.3</td>\n    </tr>\n    <tr>\n      <th>7</th>\n      <td>Croydon</td>\n      <td>55.1</td>\n      <td>6.6</td>\n      <td>16.4</td>\n      <td>20.2</td>\n      <td>1.8</td>\n    </tr>\n  </tbody>\n</table>\n</div>"
                    },
                    "metadata": {}
                }
            ]
        },
        {
            "metadata": {},
            "cell_type": "markdown",
            "source": "<strong>Assumption 6 :</strong> Our next assumption will be based on the top 5 areas will significantly high \"Black\", \"Mixed\" and other races. These leaves us with Lewisham, Southwark, Lambeth, Hackney and Croydon."
        },
        {
            "metadata": {},
            "cell_type": "code",
            "source": "df_se",
            "execution_count": 39,
            "outputs": [
                {
                    "output_type": "execute_result",
                    "execution_count": 39,
                    "data": {
                        "text/plain": "                                          Location              Borough  \\\n0                                       Abbey Wood  Bexley,  Greenwich    \n1                                     Crofton Park             Lewisham   \n2                                        Crossness               Bexley   \n3                                   Crystal Palace              Bromley   \n4                                   Crystal Palace              Bromley   \n5                                   Crystal Palace              Bromley   \n6                                     Denmark Hill            Southwark   \n7                                         Deptford             Lewisham   \n8                                          Dulwich            Southwark   \n9                                     East Dulwich            Southwark   \n10                             Elephant and Castle            Southwark   \n11                             Elephant and Castle            Southwark   \n12                             Elephant and Castle            Southwark   \n13                                          Eltham            Greenwich   \n14                                      Falconwood    Bexley, Greenwich   \n15                                        Bankside            Southwark   \n16                                     Forest Hill             Lewisham   \n17                                      Gipsy Hill              Lambeth   \n18                                      Gipsy Hill              Lambeth   \n19                                       Greenwich            Greenwich   \n20                                      Grove Park             Lewisham   \n21                                      Herne Hill              Lambeth   \n22                                    Hither Green             Lewisham   \n23                                       Honor Oak             Lewisham   \n24                                       Horn Park  Greenwich, Lewisham   \n25                                      Kennington   Lambeth, Southwark   \n26                                       Kidbrooke            Greenwich   \n27                                        Ladywell             Lewisham   \n28                                        Ladywell             Lewisham   \n29                                         Lambeth              Lambeth   \n30                                             Lee             Lewisham   \n31                                        Lewisham             Lewisham   \n32                                       Beckenham              Bromley   \n33                                       Longlands               Bexley   \n34                                       Maze Hill            Greenwich   \n35                                     Middle Park            Greenwich   \n36                                      Mottingham              Bromley   \n37                                       New Cross             Lewisham   \n38                                      New Eltham            Greenwich   \n39                                       Newington            Southwark   \n40                                       Newington            Southwark   \n41                                         Nunhead            Southwark   \n42                                            Oval              Lambeth   \n43                                      Bellingham             Lewisham   \n44                                         Peckham            Southwark   \n45                                           Penge              Bromley   \n46                                       Plumstead            Greenwich   \n47                                     Rotherhithe            Southwark   \n48                                        Selhurst              Croydon   \n49                                  Shooter's Hill            Greenwich   \n50                                      Bermondsey            Southwark   \n51                                   South Norwood              Croydon   \n52                                        Southend             Lewisham   \n53                                        St Johns             Lewisham   \n54              Bexleyheath (also Bexley New Town)               Bexley   \n55                                    Surrey Quays            Southwark   \n56  Sydenham (also Lower Sydenham, Upper Sydenham)    Lewisham, Bromley   \n57                                   Sydenham Hill  Lewisham, Southwark   \n58                                   Sydenham Hill  Lewisham, Southwark   \n59                                      Thamesmead    Bexley, Greenwich   \n60                                      Thamesmead    Bexley, Greenwich   \n61                                      Tulse Hill              Lambeth   \n62                                      Tulse Hill              Lambeth   \n63                                   Upper Norwood              Croydon   \n64                                        Walworth            Southwark   \n65                                       Well Hall            Greenwich   \n66                                      Blackheath             Lewisham   \n67                                      West Heath               Bexley   \n68                       Blackheath Royal Standard            Greenwich   \n69                       Blackheath Royal Standard            Greenwich   \n70                                    West Norwood              Lambeth   \n71                                  Westcombe Park            Greenwich   \n72                                        Woolwich            Greenwich   \n73                                         Brixton              Lambeth   \n74                                        Brockley             Lewisham   \n75                                      Camberwell            Southwark   \n76                                         Catford             Lewisham   \n77                                        Charlton            Greenwich   \n78                                         Anerley              Bromley   \n79                                       Chinbrook             Lewisham   \n\n   Postcode  \n0       SE2  \n1       SE4  \n2       SE2  \n3      SE19  \n4      SE20  \n5      SE26  \n6       SE5  \n7       SE8  \n8      SE21  \n9      SE22  \n10      SE1  \n11     SE11  \n12     SE17  \n13      SE9  \n14      SE9  \n15      SE1  \n16     SE23  \n17     SE19  \n18     SE27  \n19     SE10  \n20     SE12  \n21     SE24  \n22     SE13  \n23     SE23  \n24     SE12  \n25     SE11  \n26      SE3  \n27      SE4  \n28     SE13  \n29      SE1  \n30     SE12  \n31     SE13  \n32     SE20  \n33      SE9  \n34     SE10  \n35      SE9  \n36      SE9  \n37     SE14  \n38      SE9  \n39      SE1  \n40     SE17  \n41     SE15  \n42     SE11  \n43      SE6  \n44     SE15  \n45     SE20  \n46     SE18  \n47     SE16  \n48     SE25  \n49     SE18  \n50      SE1  \n51     SE25  \n52      SE6  \n53      SE4  \n54      SE2  \n55     SE16  \n56     SE26  \n57     SE21  \n58     SE26  \n59     SE28  \n60      SE2  \n61     SE24  \n62     SE27  \n63     SE19  \n64     SE17  \n65      SE9  \n66      SE3  \n67      SE2  \n68      SE3  \n69     SE12  \n70     SE27  \n71      SE3  \n72     SE18  \n73      SE5  \n74      SE4  \n75      SE5  \n76      SE6  \n77      SE7  \n78     SE20  \n79     SE12  ",
                        "text/html": "<div>\n<style scoped>\n    .dataframe tbody tr th:only-of-type {\n        vertical-align: middle;\n    }\n\n    .dataframe tbody tr th {\n        vertical-align: top;\n    }\n\n    .dataframe thead th {\n        text-align: right;\n    }\n</style>\n<table border=\"1\" class=\"dataframe\">\n  <thead>\n    <tr style=\"text-align: right;\">\n      <th></th>\n      <th>Location</th>\n      <th>Borough</th>\n      <th>Postcode</th>\n    </tr>\n  </thead>\n  <tbody>\n    <tr>\n      <th>0</th>\n      <td>Abbey Wood</td>\n      <td>Bexley,  Greenwich</td>\n      <td>SE2</td>\n    </tr>\n    <tr>\n      <th>1</th>\n      <td>Crofton Park</td>\n      <td>Lewisham</td>\n      <td>SE4</td>\n    </tr>\n    <tr>\n      <th>2</th>\n      <td>Crossness</td>\n      <td>Bexley</td>\n      <td>SE2</td>\n    </tr>\n    <tr>\n      <th>3</th>\n      <td>Crystal Palace</td>\n      <td>Bromley</td>\n      <td>SE19</td>\n    </tr>\n    <tr>\n      <th>4</th>\n      <td>Crystal Palace</td>\n      <td>Bromley</td>\n      <td>SE20</td>\n    </tr>\n    <tr>\n      <th>5</th>\n      <td>Crystal Palace</td>\n      <td>Bromley</td>\n      <td>SE26</td>\n    </tr>\n    <tr>\n      <th>6</th>\n      <td>Denmark Hill</td>\n      <td>Southwark</td>\n      <td>SE5</td>\n    </tr>\n    <tr>\n      <th>7</th>\n      <td>Deptford</td>\n      <td>Lewisham</td>\n      <td>SE8</td>\n    </tr>\n    <tr>\n      <th>8</th>\n      <td>Dulwich</td>\n      <td>Southwark</td>\n      <td>SE21</td>\n    </tr>\n    <tr>\n      <th>9</th>\n      <td>East Dulwich</td>\n      <td>Southwark</td>\n      <td>SE22</td>\n    </tr>\n    <tr>\n      <th>10</th>\n      <td>Elephant and Castle</td>\n      <td>Southwark</td>\n      <td>SE1</td>\n    </tr>\n    <tr>\n      <th>11</th>\n      <td>Elephant and Castle</td>\n      <td>Southwark</td>\n      <td>SE11</td>\n    </tr>\n    <tr>\n      <th>12</th>\n      <td>Elephant and Castle</td>\n      <td>Southwark</td>\n      <td>SE17</td>\n    </tr>\n    <tr>\n      <th>13</th>\n      <td>Eltham</td>\n      <td>Greenwich</td>\n      <td>SE9</td>\n    </tr>\n    <tr>\n      <th>14</th>\n      <td>Falconwood</td>\n      <td>Bexley, Greenwich</td>\n      <td>SE9</td>\n    </tr>\n    <tr>\n      <th>15</th>\n      <td>Bankside</td>\n      <td>Southwark</td>\n      <td>SE1</td>\n    </tr>\n    <tr>\n      <th>16</th>\n      <td>Forest Hill</td>\n      <td>Lewisham</td>\n      <td>SE23</td>\n    </tr>\n    <tr>\n      <th>17</th>\n      <td>Gipsy Hill</td>\n      <td>Lambeth</td>\n      <td>SE19</td>\n    </tr>\n    <tr>\n      <th>18</th>\n      <td>Gipsy Hill</td>\n      <td>Lambeth</td>\n      <td>SE27</td>\n    </tr>\n    <tr>\n      <th>19</th>\n      <td>Greenwich</td>\n      <td>Greenwich</td>\n      <td>SE10</td>\n    </tr>\n    <tr>\n      <th>20</th>\n      <td>Grove Park</td>\n      <td>Lewisham</td>\n      <td>SE12</td>\n    </tr>\n    <tr>\n      <th>21</th>\n      <td>Herne Hill</td>\n      <td>Lambeth</td>\n      <td>SE24</td>\n    </tr>\n    <tr>\n      <th>22</th>\n      <td>Hither Green</td>\n      <td>Lewisham</td>\n      <td>SE13</td>\n    </tr>\n    <tr>\n      <th>23</th>\n      <td>Honor Oak</td>\n      <td>Lewisham</td>\n      <td>SE23</td>\n    </tr>\n    <tr>\n      <th>24</th>\n      <td>Horn Park</td>\n      <td>Greenwich, Lewisham</td>\n      <td>SE12</td>\n    </tr>\n    <tr>\n      <th>25</th>\n      <td>Kennington</td>\n      <td>Lambeth, Southwark</td>\n      <td>SE11</td>\n    </tr>\n    <tr>\n      <th>26</th>\n      <td>Kidbrooke</td>\n      <td>Greenwich</td>\n      <td>SE3</td>\n    </tr>\n    <tr>\n      <th>27</th>\n      <td>Ladywell</td>\n      <td>Lewisham</td>\n      <td>SE4</td>\n    </tr>\n    <tr>\n      <th>28</th>\n      <td>Ladywell</td>\n      <td>Lewisham</td>\n      <td>SE13</td>\n    </tr>\n    <tr>\n      <th>29</th>\n      <td>Lambeth</td>\n      <td>Lambeth</td>\n      <td>SE1</td>\n    </tr>\n    <tr>\n      <th>30</th>\n      <td>Lee</td>\n      <td>Lewisham</td>\n      <td>SE12</td>\n    </tr>\n    <tr>\n      <th>31</th>\n      <td>Lewisham</td>\n      <td>Lewisham</td>\n      <td>SE13</td>\n    </tr>\n    <tr>\n      <th>32</th>\n      <td>Beckenham</td>\n      <td>Bromley</td>\n      <td>SE20</td>\n    </tr>\n    <tr>\n      <th>33</th>\n      <td>Longlands</td>\n      <td>Bexley</td>\n      <td>SE9</td>\n    </tr>\n    <tr>\n      <th>34</th>\n      <td>Maze Hill</td>\n      <td>Greenwich</td>\n      <td>SE10</td>\n    </tr>\n    <tr>\n      <th>35</th>\n      <td>Middle Park</td>\n      <td>Greenwich</td>\n      <td>SE9</td>\n    </tr>\n    <tr>\n      <th>36</th>\n      <td>Mottingham</td>\n      <td>Bromley</td>\n      <td>SE9</td>\n    </tr>\n    <tr>\n      <th>37</th>\n      <td>New Cross</td>\n      <td>Lewisham</td>\n      <td>SE14</td>\n    </tr>\n    <tr>\n      <th>38</th>\n      <td>New Eltham</td>\n      <td>Greenwich</td>\n      <td>SE9</td>\n    </tr>\n    <tr>\n      <th>39</th>\n      <td>Newington</td>\n      <td>Southwark</td>\n      <td>SE1</td>\n    </tr>\n    <tr>\n      <th>40</th>\n      <td>Newington</td>\n      <td>Southwark</td>\n      <td>SE17</td>\n    </tr>\n    <tr>\n      <th>41</th>\n      <td>Nunhead</td>\n      <td>Southwark</td>\n      <td>SE15</td>\n    </tr>\n    <tr>\n      <th>42</th>\n      <td>Oval</td>\n      <td>Lambeth</td>\n      <td>SE11</td>\n    </tr>\n    <tr>\n      <th>43</th>\n      <td>Bellingham</td>\n      <td>Lewisham</td>\n      <td>SE6</td>\n    </tr>\n    <tr>\n      <th>44</th>\n      <td>Peckham</td>\n      <td>Southwark</td>\n      <td>SE15</td>\n    </tr>\n    <tr>\n      <th>45</th>\n      <td>Penge</td>\n      <td>Bromley</td>\n      <td>SE20</td>\n    </tr>\n    <tr>\n      <th>46</th>\n      <td>Plumstead</td>\n      <td>Greenwich</td>\n      <td>SE18</td>\n    </tr>\n    <tr>\n      <th>47</th>\n      <td>Rotherhithe</td>\n      <td>Southwark</td>\n      <td>SE16</td>\n    </tr>\n    <tr>\n      <th>48</th>\n      <td>Selhurst</td>\n      <td>Croydon</td>\n      <td>SE25</td>\n    </tr>\n    <tr>\n      <th>49</th>\n      <td>Shooter's Hill</td>\n      <td>Greenwich</td>\n      <td>SE18</td>\n    </tr>\n    <tr>\n      <th>50</th>\n      <td>Bermondsey</td>\n      <td>Southwark</td>\n      <td>SE1</td>\n    </tr>\n    <tr>\n      <th>51</th>\n      <td>South Norwood</td>\n      <td>Croydon</td>\n      <td>SE25</td>\n    </tr>\n    <tr>\n      <th>52</th>\n      <td>Southend</td>\n      <td>Lewisham</td>\n      <td>SE6</td>\n    </tr>\n    <tr>\n      <th>53</th>\n      <td>St Johns</td>\n      <td>Lewisham</td>\n      <td>SE4</td>\n    </tr>\n    <tr>\n      <th>54</th>\n      <td>Bexleyheath (also Bexley New Town)</td>\n      <td>Bexley</td>\n      <td>SE2</td>\n    </tr>\n    <tr>\n      <th>55</th>\n      <td>Surrey Quays</td>\n      <td>Southwark</td>\n      <td>SE16</td>\n    </tr>\n    <tr>\n      <th>56</th>\n      <td>Sydenham (also Lower Sydenham, Upper Sydenham)</td>\n      <td>Lewisham, Bromley</td>\n      <td>SE26</td>\n    </tr>\n    <tr>\n      <th>57</th>\n      <td>Sydenham Hill</td>\n      <td>Lewisham, Southwark</td>\n      <td>SE21</td>\n    </tr>\n    <tr>\n      <th>58</th>\n      <td>Sydenham Hill</td>\n      <td>Lewisham, Southwark</td>\n      <td>SE26</td>\n    </tr>\n    <tr>\n      <th>59</th>\n      <td>Thamesmead</td>\n      <td>Bexley, Greenwich</td>\n      <td>SE28</td>\n    </tr>\n    <tr>\n      <th>60</th>\n      <td>Thamesmead</td>\n      <td>Bexley, Greenwich</td>\n      <td>SE2</td>\n    </tr>\n    <tr>\n      <th>61</th>\n      <td>Tulse Hill</td>\n      <td>Lambeth</td>\n      <td>SE24</td>\n    </tr>\n    <tr>\n      <th>62</th>\n      <td>Tulse Hill</td>\n      <td>Lambeth</td>\n      <td>SE27</td>\n    </tr>\n    <tr>\n      <th>63</th>\n      <td>Upper Norwood</td>\n      <td>Croydon</td>\n      <td>SE19</td>\n    </tr>\n    <tr>\n      <th>64</th>\n      <td>Walworth</td>\n      <td>Southwark</td>\n      <td>SE17</td>\n    </tr>\n    <tr>\n      <th>65</th>\n      <td>Well Hall</td>\n      <td>Greenwich</td>\n      <td>SE9</td>\n    </tr>\n    <tr>\n      <th>66</th>\n      <td>Blackheath</td>\n      <td>Lewisham</td>\n      <td>SE3</td>\n    </tr>\n    <tr>\n      <th>67</th>\n      <td>West Heath</td>\n      <td>Bexley</td>\n      <td>SE2</td>\n    </tr>\n    <tr>\n      <th>68</th>\n      <td>Blackheath Royal Standard</td>\n      <td>Greenwich</td>\n      <td>SE3</td>\n    </tr>\n    <tr>\n      <th>69</th>\n      <td>Blackheath Royal Standard</td>\n      <td>Greenwich</td>\n      <td>SE12</td>\n    </tr>\n    <tr>\n      <th>70</th>\n      <td>West Norwood</td>\n      <td>Lambeth</td>\n      <td>SE27</td>\n    </tr>\n    <tr>\n      <th>71</th>\n      <td>Westcombe Park</td>\n      <td>Greenwich</td>\n      <td>SE3</td>\n    </tr>\n    <tr>\n      <th>72</th>\n      <td>Woolwich</td>\n      <td>Greenwich</td>\n      <td>SE18</td>\n    </tr>\n    <tr>\n      <th>73</th>\n      <td>Brixton</td>\n      <td>Lambeth</td>\n      <td>SE5</td>\n    </tr>\n    <tr>\n      <th>74</th>\n      <td>Brockley</td>\n      <td>Lewisham</td>\n      <td>SE4</td>\n    </tr>\n    <tr>\n      <th>75</th>\n      <td>Camberwell</td>\n      <td>Southwark</td>\n      <td>SE5</td>\n    </tr>\n    <tr>\n      <th>76</th>\n      <td>Catford</td>\n      <td>Lewisham</td>\n      <td>SE6</td>\n    </tr>\n    <tr>\n      <th>77</th>\n      <td>Charlton</td>\n      <td>Greenwich</td>\n      <td>SE7</td>\n    </tr>\n    <tr>\n      <th>78</th>\n      <td>Anerley</td>\n      <td>Bromley</td>\n      <td>SE20</td>\n    </tr>\n    <tr>\n      <th>79</th>\n      <td>Chinbrook</td>\n      <td>Lewisham</td>\n      <td>SE12</td>\n    </tr>\n  </tbody>\n</table>\n</div>"
                    },
                    "metadata": {}
                }
            ]
        },
        {
            "metadata": {},
            "cell_type": "code",
            "source": "df_se_top = df_se[df_se['Borough'].isin(['Lewisham', 'Southwark', 'Lambeth', 'Hackney', 'Croydon'])].reset_index(drop=True)",
            "execution_count": 40,
            "outputs": []
        },
        {
            "metadata": {},
            "cell_type": "markdown",
            "source": "Just to be sure with syntax, Hackney is in North London, so it will not be returned. The resulting dataframe is df_se_top."
        },
        {
            "metadata": {},
            "cell_type": "code",
            "source": "df_se_top.head()",
            "execution_count": 41,
            "outputs": [
                {
                    "output_type": "execute_result",
                    "execution_count": 41,
                    "data": {
                        "text/plain": "       Location    Borough Postcode\n0  Crofton Park   Lewisham      SE4\n1  Denmark Hill  Southwark      SE5\n2      Deptford   Lewisham      SE8\n3       Dulwich  Southwark     SE21\n4  East Dulwich  Southwark     SE22",
                        "text/html": "<div>\n<style scoped>\n    .dataframe tbody tr th:only-of-type {\n        vertical-align: middle;\n    }\n\n    .dataframe tbody tr th {\n        vertical-align: top;\n    }\n\n    .dataframe thead th {\n        text-align: right;\n    }\n</style>\n<table border=\"1\" class=\"dataframe\">\n  <thead>\n    <tr style=\"text-align: right;\">\n      <th></th>\n      <th>Location</th>\n      <th>Borough</th>\n      <th>Postcode</th>\n    </tr>\n  </thead>\n  <tbody>\n    <tr>\n      <th>0</th>\n      <td>Crofton Park</td>\n      <td>Lewisham</td>\n      <td>SE4</td>\n    </tr>\n    <tr>\n      <th>1</th>\n      <td>Denmark Hill</td>\n      <td>Southwark</td>\n      <td>SE5</td>\n    </tr>\n    <tr>\n      <th>2</th>\n      <td>Deptford</td>\n      <td>Lewisham</td>\n      <td>SE8</td>\n    </tr>\n    <tr>\n      <th>3</th>\n      <td>Dulwich</td>\n      <td>Southwark</td>\n      <td>SE21</td>\n    </tr>\n    <tr>\n      <th>4</th>\n      <td>East Dulwich</td>\n      <td>Southwark</td>\n      <td>SE22</td>\n    </tr>\n  </tbody>\n</table>\n</div>"
                    },
                    "metadata": {}
                }
            ]
        },
        {
            "metadata": {},
            "cell_type": "code",
            "source": "df_se_top.shape",
            "execution_count": 42,
            "outputs": [
                {
                    "output_type": "execute_result",
                    "execution_count": 42,
                    "data": {
                        "text/plain": "(46, 3)"
                    },
                    "metadata": {}
                }
            ]
        },
        {
            "metadata": {},
            "cell_type": "code",
            "source": "df_se.shape",
            "execution_count": 43,
            "outputs": [
                {
                    "output_type": "execute_result",
                    "execution_count": 43,
                    "data": {
                        "text/plain": "(80, 3)"
                    },
                    "metadata": {}
                }
            ]
        },
        {
            "metadata": {},
            "cell_type": "markdown",
            "source": "So we have our working dataframe to be df_se_top to work with.<br/>"
        },
        {
            "metadata": {},
            "cell_type": "markdown",
            "source": "### b. Second dataset\u00b6\nIn obtaining the location data of the locations, the Geocoder package is used with the arcgis_geocoder to obtain the latitude and longitude of the needed locations.<br/>\n\nThese will help to create a new dataframe that will be used subsequently for the South East London areas."
        },
        {
            "metadata": {},
            "cell_type": "code",
            "source": "# Geocoder starts here\n# Defining a function to use --> get_latlng()'''\ndef get_latlng(arcgis_geocoder):\n    \n    # Initialize the Location (lat. and long.) to \"None\"\n    lat_lng_coords = None\n    \n    # While loop helps to create a continous run until all the location coordinates are geocoded\n    while(lat_lng_coords is None):\n        g = geocoder.arcgis('{}, London, United Kingdom'.format(arcgis_geocoder))\n        lat_lng_coords = g.latlng\n    return lat_lng_coords\n# Geocoder ends here",
            "execution_count": 44,
            "outputs": []
        },
        {
            "metadata": {},
            "cell_type": "markdown",
            "source": "Testing the function above for a sample postcode - SE2."
        },
        {
            "metadata": {},
            "cell_type": "code",
            "source": "sample = get_latlng('SE2')\nsample",
            "execution_count": 45,
            "outputs": [
                {
                    "output_type": "execute_result",
                    "execution_count": 45,
                    "data": {
                        "text/plain": "[51.492450000000076, 0.12127000000003818]"
                    },
                    "metadata": {}
                }
            ]
        },
        {
            "metadata": {},
            "cell_type": "markdown",
            "source": "And reverse geocoding this, using the geocodefarm geocoder, gives the following :"
        },
        {
            "metadata": {},
            "cell_type": "code",
            "source": "gg = geocoder.geocodefarm(sample, method = 'reverse')\ngg",
            "execution_count": 46,
            "outputs": [
                {
                    "output_type": "execute_result",
                    "execution_count": 46,
                    "data": {
                        "text/plain": "<[OK] Geocodefarm - Reverse [Harrow Manor Way, London, SE2 9, United Kingdom]>"
                    },
                    "metadata": {}
                }
            ]
        },
        {
            "metadata": {},
            "cell_type": "markdown",
            "source": "So, we are certain that the geocoder works fine. So we proceed to applying it to our dataframe df_se_top."
        },
        {
            "metadata": {},
            "cell_type": "code",
            "source": "start = time.time()\n\npostal_codes = df_se_top['Postcode']    \ncoordinates = [get_latlng(postal_code) for postal_code in postal_codes.tolist()]\n\nend = time.time()\nprint(\"Time of execution: \", end - start, \"seconds\")",
            "execution_count": 48,
            "outputs": [
                {
                    "output_type": "stream",
                    "text": "Time of execution:  28.713894605636597 seconds\n",
                    "name": "stdout"
                }
            ]
        },
        {
            "metadata": {},
            "cell_type": "markdown",
            "source": "Then we proceed to store the location data - latitude and longitude as follows. The obtained coordinates are then joined to df_se_topto create new data frame."
        },
        {
            "metadata": {},
            "cell_type": "code",
            "source": "df_se_loc = df_se_top\n\n# The obtained coordinates (latitude and longitude) are joined with the dataframe as shown\ndf_se_coordinates = pd.DataFrame(coordinates, columns = ['Latitude', 'Longitude'])\ndf_se_loc['Latitude'] = df_se_coordinates['Latitude']\ndf_se_loc['Longitude'] = df_se_coordinates['Longitude']",
            "execution_count": 49,
            "outputs": []
        },
        {
            "metadata": {},
            "cell_type": "code",
            "source": "df_se_loc.head()",
            "execution_count": 50,
            "outputs": [
                {
                    "output_type": "execute_result",
                    "execution_count": 50,
                    "data": {
                        "text/plain": "       Location    Borough Postcode  Latitude  Longitude\n0  Crofton Park   Lewisham      SE4  51.46268   -0.03558\n1  Denmark Hill  Southwark      SE5  51.47480   -0.09313\n2      Deptford   Lewisham      SE8  51.48114   -0.02467\n3       Dulwich  Southwark     SE21  51.44100   -0.08897\n4  East Dulwich  Southwark     SE22  51.45256   -0.07076",
                        "text/html": "<div>\n<style scoped>\n    .dataframe tbody tr th:only-of-type {\n        vertical-align: middle;\n    }\n\n    .dataframe tbody tr th {\n        vertical-align: top;\n    }\n\n    .dataframe thead th {\n        text-align: right;\n    }\n</style>\n<table border=\"1\" class=\"dataframe\">\n  <thead>\n    <tr style=\"text-align: right;\">\n      <th></th>\n      <th>Location</th>\n      <th>Borough</th>\n      <th>Postcode</th>\n      <th>Latitude</th>\n      <th>Longitude</th>\n    </tr>\n  </thead>\n  <tbody>\n    <tr>\n      <th>0</th>\n      <td>Crofton Park</td>\n      <td>Lewisham</td>\n      <td>SE4</td>\n      <td>51.46268</td>\n      <td>-0.03558</td>\n    </tr>\n    <tr>\n      <th>1</th>\n      <td>Denmark Hill</td>\n      <td>Southwark</td>\n      <td>SE5</td>\n      <td>51.47480</td>\n      <td>-0.09313</td>\n    </tr>\n    <tr>\n      <th>2</th>\n      <td>Deptford</td>\n      <td>Lewisham</td>\n      <td>SE8</td>\n      <td>51.48114</td>\n      <td>-0.02467</td>\n    </tr>\n    <tr>\n      <th>3</th>\n      <td>Dulwich</td>\n      <td>Southwark</td>\n      <td>SE21</td>\n      <td>51.44100</td>\n      <td>-0.08897</td>\n    </tr>\n    <tr>\n      <th>4</th>\n      <td>East Dulwich</td>\n      <td>Southwark</td>\n      <td>SE22</td>\n      <td>51.45256</td>\n      <td>-0.07076</td>\n    </tr>\n  </tbody>\n</table>\n</div>"
                    },
                    "metadata": {}
                }
            ]
        },
        {
            "metadata": {},
            "cell_type": "code",
            "source": "df_se_loc.to_csv('SELondonLocationsCoordinates.csv', index = False)\ndf_se_loc.shape",
            "execution_count": 51,
            "outputs": [
                {
                    "output_type": "execute_result",
                    "execution_count": 51,
                    "data": {
                        "text/plain": "(46, 5)"
                    },
                    "metadata": {}
                }
            ]
        },
        {
            "metadata": {},
            "cell_type": "markdown",
            "source": "<h2>3. Methodology</h2>\n<h3>3.1 Data Exploration</h3><br/>\nThis project will rely on public data from Wikipedia and Foursquare.<br/>\n\n### a. Single Neighbohood\u00b6\n\nAn initial exploration of a single Neighbourhood within the London area was done to examine the Foursquare workability. The Lewisham Borough postcode SE13 and Location - Lewisham is used for this."
        },
        {
            "metadata": {},
            "cell_type": "code",
            "source": "# Resets the current index to a new\nse_df = df_se_loc.reset_index().drop('index', axis = 1)\nse_df.shape",
            "execution_count": 57,
            "outputs": [
                {
                    "output_type": "execute_result",
                    "execution_count": 57,
                    "data": {
                        "text/plain": "(46, 5)"
                    },
                    "metadata": {}
                }
            ]
        },
        {
            "metadata": {},
            "cell_type": "code",
            "source": "se_df",
            "execution_count": 58,
            "outputs": [
                {
                    "output_type": "execute_result",
                    "execution_count": 58,
                    "data": {
                        "text/plain": "               Location    Borough Postcode  Latitude  Longitude\n0          Crofton Park   Lewisham      SE4  51.46268   -0.03558\n1          Denmark Hill  Southwark      SE5  51.47480   -0.09313\n2              Deptford   Lewisham      SE8  51.48114   -0.02467\n3               Dulwich  Southwark     SE21  51.44100   -0.08897\n4          East Dulwich  Southwark     SE22  51.45256   -0.07076\n5   Elephant and Castle  Southwark      SE1  51.49960   -0.09613\n6   Elephant and Castle  Southwark     SE11  51.49084   -0.11108\n7   Elephant and Castle  Southwark     SE17  51.48764   -0.09542\n8              Bankside  Southwark      SE1  51.49960   -0.09613\n9           Forest Hill   Lewisham     SE23  51.44122   -0.04764\n10           Gipsy Hill    Lambeth     SE19  51.41990   -0.08808\n11           Gipsy Hill    Lambeth     SE27  51.43407   -0.10375\n12           Grove Park   Lewisham     SE12  51.44759    0.01350\n13           Herne Hill    Lambeth     SE24  51.45529   -0.09928\n14         Hither Green   Lewisham     SE13  51.46196   -0.00754\n15            Honor Oak   Lewisham     SE23  51.44122   -0.04764\n16             Ladywell   Lewisham      SE4  51.46268   -0.03558\n17             Ladywell   Lewisham     SE13  51.46196   -0.00754\n18              Lambeth    Lambeth      SE1  51.49960   -0.09613\n19                  Lee   Lewisham     SE12  51.44759    0.01350\n20             Lewisham   Lewisham     SE13  51.46196   -0.00754\n21            New Cross   Lewisham     SE14  51.47489   -0.04038\n22            Newington  Southwark      SE1  51.49960   -0.09613\n23            Newington  Southwark     SE17  51.48764   -0.09542\n24              Nunhead  Southwark     SE15  51.47218   -0.06779\n25                 Oval    Lambeth     SE11  51.49084   -0.11108\n26           Bellingham   Lewisham      SE6  51.43722   -0.01868\n27              Peckham  Southwark     SE15  51.47218   -0.06779\n28          Rotherhithe  Southwark     SE16  51.49574   -0.05157\n29             Selhurst    Croydon     SE25  51.39925   -0.07414\n30           Bermondsey  Southwark      SE1  51.49960   -0.09613\n31        South Norwood    Croydon     SE25  51.39925   -0.07414\n32             Southend   Lewisham      SE6  51.43722   -0.01868\n33             St Johns   Lewisham      SE4  51.46268   -0.03558\n34         Surrey Quays  Southwark     SE16  51.49574   -0.05157\n35           Tulse Hill    Lambeth     SE24  51.45529   -0.09928\n36           Tulse Hill    Lambeth     SE27  51.43407   -0.10375\n37        Upper Norwood    Croydon     SE19  51.41990   -0.08808\n38             Walworth  Southwark     SE17  51.48764   -0.09542\n39           Blackheath   Lewisham      SE3  51.47138    0.02338\n40         West Norwood    Lambeth     SE27  51.43407   -0.10375\n41              Brixton    Lambeth      SE5  51.47480   -0.09313\n42             Brockley   Lewisham      SE4  51.46268   -0.03558\n43           Camberwell  Southwark      SE5  51.47480   -0.09313\n44              Catford   Lewisham      SE6  51.43722   -0.01868\n45            Chinbrook   Lewisham     SE12  51.44759    0.01350",
                        "text/html": "<div>\n<style scoped>\n    .dataframe tbody tr th:only-of-type {\n        vertical-align: middle;\n    }\n\n    .dataframe tbody tr th {\n        vertical-align: top;\n    }\n\n    .dataframe thead th {\n        text-align: right;\n    }\n</style>\n<table border=\"1\" class=\"dataframe\">\n  <thead>\n    <tr style=\"text-align: right;\">\n      <th></th>\n      <th>Location</th>\n      <th>Borough</th>\n      <th>Postcode</th>\n      <th>Latitude</th>\n      <th>Longitude</th>\n    </tr>\n  </thead>\n  <tbody>\n    <tr>\n      <th>0</th>\n      <td>Crofton Park</td>\n      <td>Lewisham</td>\n      <td>SE4</td>\n      <td>51.46268</td>\n      <td>-0.03558</td>\n    </tr>\n    <tr>\n      <th>1</th>\n      <td>Denmark Hill</td>\n      <td>Southwark</td>\n      <td>SE5</td>\n      <td>51.47480</td>\n      <td>-0.09313</td>\n    </tr>\n    <tr>\n      <th>2</th>\n      <td>Deptford</td>\n      <td>Lewisham</td>\n      <td>SE8</td>\n      <td>51.48114</td>\n      <td>-0.02467</td>\n    </tr>\n    <tr>\n      <th>3</th>\n      <td>Dulwich</td>\n      <td>Southwark</td>\n      <td>SE21</td>\n      <td>51.44100</td>\n      <td>-0.08897</td>\n    </tr>\n    <tr>\n      <th>4</th>\n      <td>East Dulwich</td>\n      <td>Southwark</td>\n      <td>SE22</td>\n      <td>51.45256</td>\n      <td>-0.07076</td>\n    </tr>\n    <tr>\n      <th>5</th>\n      <td>Elephant and Castle</td>\n      <td>Southwark</td>\n      <td>SE1</td>\n      <td>51.49960</td>\n      <td>-0.09613</td>\n    </tr>\n    <tr>\n      <th>6</th>\n      <td>Elephant and Castle</td>\n      <td>Southwark</td>\n      <td>SE11</td>\n      <td>51.49084</td>\n      <td>-0.11108</td>\n    </tr>\n    <tr>\n      <th>7</th>\n      <td>Elephant and Castle</td>\n      <td>Southwark</td>\n      <td>SE17</td>\n      <td>51.48764</td>\n      <td>-0.09542</td>\n    </tr>\n    <tr>\n      <th>8</th>\n      <td>Bankside</td>\n      <td>Southwark</td>\n      <td>SE1</td>\n      <td>51.49960</td>\n      <td>-0.09613</td>\n    </tr>\n    <tr>\n      <th>9</th>\n      <td>Forest Hill</td>\n      <td>Lewisham</td>\n      <td>SE23</td>\n      <td>51.44122</td>\n      <td>-0.04764</td>\n    </tr>\n    <tr>\n      <th>10</th>\n      <td>Gipsy Hill</td>\n      <td>Lambeth</td>\n      <td>SE19</td>\n      <td>51.41990</td>\n      <td>-0.08808</td>\n    </tr>\n    <tr>\n      <th>11</th>\n      <td>Gipsy Hill</td>\n      <td>Lambeth</td>\n      <td>SE27</td>\n      <td>51.43407</td>\n      <td>-0.10375</td>\n    </tr>\n    <tr>\n      <th>12</th>\n      <td>Grove Park</td>\n      <td>Lewisham</td>\n      <td>SE12</td>\n      <td>51.44759</td>\n      <td>0.01350</td>\n    </tr>\n    <tr>\n      <th>13</th>\n      <td>Herne Hill</td>\n      <td>Lambeth</td>\n      <td>SE24</td>\n      <td>51.45529</td>\n      <td>-0.09928</td>\n    </tr>\n    <tr>\n      <th>14</th>\n      <td>Hither Green</td>\n      <td>Lewisham</td>\n      <td>SE13</td>\n      <td>51.46196</td>\n      <td>-0.00754</td>\n    </tr>\n    <tr>\n      <th>15</th>\n      <td>Honor Oak</td>\n      <td>Lewisham</td>\n      <td>SE23</td>\n      <td>51.44122</td>\n      <td>-0.04764</td>\n    </tr>\n    <tr>\n      <th>16</th>\n      <td>Ladywell</td>\n      <td>Lewisham</td>\n      <td>SE4</td>\n      <td>51.46268</td>\n      <td>-0.03558</td>\n    </tr>\n    <tr>\n      <th>17</th>\n      <td>Ladywell</td>\n      <td>Lewisham</td>\n      <td>SE13</td>\n      <td>51.46196</td>\n      <td>-0.00754</td>\n    </tr>\n    <tr>\n      <th>18</th>\n      <td>Lambeth</td>\n      <td>Lambeth</td>\n      <td>SE1</td>\n      <td>51.49960</td>\n      <td>-0.09613</td>\n    </tr>\n    <tr>\n      <th>19</th>\n      <td>Lee</td>\n      <td>Lewisham</td>\n      <td>SE12</td>\n      <td>51.44759</td>\n      <td>0.01350</td>\n    </tr>\n    <tr>\n      <th>20</th>\n      <td>Lewisham</td>\n      <td>Lewisham</td>\n      <td>SE13</td>\n      <td>51.46196</td>\n      <td>-0.00754</td>\n    </tr>\n    <tr>\n      <th>21</th>\n      <td>New Cross</td>\n      <td>Lewisham</td>\n      <td>SE14</td>\n      <td>51.47489</td>\n      <td>-0.04038</td>\n    </tr>\n    <tr>\n      <th>22</th>\n      <td>Newington</td>\n      <td>Southwark</td>\n      <td>SE1</td>\n      <td>51.49960</td>\n      <td>-0.09613</td>\n    </tr>\n    <tr>\n      <th>23</th>\n      <td>Newington</td>\n      <td>Southwark</td>\n      <td>SE17</td>\n      <td>51.48764</td>\n      <td>-0.09542</td>\n    </tr>\n    <tr>\n      <th>24</th>\n      <td>Nunhead</td>\n      <td>Southwark</td>\n      <td>SE15</td>\n      <td>51.47218</td>\n      <td>-0.06779</td>\n    </tr>\n    <tr>\n      <th>25</th>\n      <td>Oval</td>\n      <td>Lambeth</td>\n      <td>SE11</td>\n      <td>51.49084</td>\n      <td>-0.11108</td>\n    </tr>\n    <tr>\n      <th>26</th>\n      <td>Bellingham</td>\n      <td>Lewisham</td>\n      <td>SE6</td>\n      <td>51.43722</td>\n      <td>-0.01868</td>\n    </tr>\n    <tr>\n      <th>27</th>\n      <td>Peckham</td>\n      <td>Southwark</td>\n      <td>SE15</td>\n      <td>51.47218</td>\n      <td>-0.06779</td>\n    </tr>\n    <tr>\n      <th>28</th>\n      <td>Rotherhithe</td>\n      <td>Southwark</td>\n      <td>SE16</td>\n      <td>51.49574</td>\n      <td>-0.05157</td>\n    </tr>\n    <tr>\n      <th>29</th>\n      <td>Selhurst</td>\n      <td>Croydon</td>\n      <td>SE25</td>\n      <td>51.39925</td>\n      <td>-0.07414</td>\n    </tr>\n    <tr>\n      <th>30</th>\n      <td>Bermondsey</td>\n      <td>Southwark</td>\n      <td>SE1</td>\n      <td>51.49960</td>\n      <td>-0.09613</td>\n    </tr>\n    <tr>\n      <th>31</th>\n      <td>South Norwood</td>\n      <td>Croydon</td>\n      <td>SE25</td>\n      <td>51.39925</td>\n      <td>-0.07414</td>\n    </tr>\n    <tr>\n      <th>32</th>\n      <td>Southend</td>\n      <td>Lewisham</td>\n      <td>SE6</td>\n      <td>51.43722</td>\n      <td>-0.01868</td>\n    </tr>\n    <tr>\n      <th>33</th>\n      <td>St Johns</td>\n      <td>Lewisham</td>\n      <td>SE4</td>\n      <td>51.46268</td>\n      <td>-0.03558</td>\n    </tr>\n    <tr>\n      <th>34</th>\n      <td>Surrey Quays</td>\n      <td>Southwark</td>\n      <td>SE16</td>\n      <td>51.49574</td>\n      <td>-0.05157</td>\n    </tr>\n    <tr>\n      <th>35</th>\n      <td>Tulse Hill</td>\n      <td>Lambeth</td>\n      <td>SE24</td>\n      <td>51.45529</td>\n      <td>-0.09928</td>\n    </tr>\n    <tr>\n      <th>36</th>\n      <td>Tulse Hill</td>\n      <td>Lambeth</td>\n      <td>SE27</td>\n      <td>51.43407</td>\n      <td>-0.10375</td>\n    </tr>\n    <tr>\n      <th>37</th>\n      <td>Upper Norwood</td>\n      <td>Croydon</td>\n      <td>SE19</td>\n      <td>51.41990</td>\n      <td>-0.08808</td>\n    </tr>\n    <tr>\n      <th>38</th>\n      <td>Walworth</td>\n      <td>Southwark</td>\n      <td>SE17</td>\n      <td>51.48764</td>\n      <td>-0.09542</td>\n    </tr>\n    <tr>\n      <th>39</th>\n      <td>Blackheath</td>\n      <td>Lewisham</td>\n      <td>SE3</td>\n      <td>51.47138</td>\n      <td>0.02338</td>\n    </tr>\n    <tr>\n      <th>40</th>\n      <td>West Norwood</td>\n      <td>Lambeth</td>\n      <td>SE27</td>\n      <td>51.43407</td>\n      <td>-0.10375</td>\n    </tr>\n    <tr>\n      <th>41</th>\n      <td>Brixton</td>\n      <td>Lambeth</td>\n      <td>SE5</td>\n      <td>51.47480</td>\n      <td>-0.09313</td>\n    </tr>\n    <tr>\n      <th>42</th>\n      <td>Brockley</td>\n      <td>Lewisham</td>\n      <td>SE4</td>\n      <td>51.46268</td>\n      <td>-0.03558</td>\n    </tr>\n    <tr>\n      <th>43</th>\n      <td>Camberwell</td>\n      <td>Southwark</td>\n      <td>SE5</td>\n      <td>51.47480</td>\n      <td>-0.09313</td>\n    </tr>\n    <tr>\n      <th>44</th>\n      <td>Catford</td>\n      <td>Lewisham</td>\n      <td>SE6</td>\n      <td>51.43722</td>\n      <td>-0.01868</td>\n    </tr>\n    <tr>\n      <th>45</th>\n      <td>Chinbrook</td>\n      <td>Lewisham</td>\n      <td>SE12</td>\n      <td>51.44759</td>\n      <td>0.01350</td>\n    </tr>\n  </tbody>\n</table>\n</div>"
                    },
                    "metadata": {}
                }
            ]
        },
        {
            "metadata": {},
            "cell_type": "code",
            "source": "se_df.loc[se_df['Location'] == 'Lewisham']",
            "execution_count": 59,
            "outputs": [
                {
                    "output_type": "execute_result",
                    "execution_count": 59,
                    "data": {
                        "text/plain": "    Location   Borough Postcode  Latitude  Longitude\n20  Lewisham  Lewisham     SE13  51.46196   -0.00754",
                        "text/html": "<div>\n<style scoped>\n    .dataframe tbody tr th:only-of-type {\n        vertical-align: middle;\n    }\n\n    .dataframe tbody tr th {\n        vertical-align: top;\n    }\n\n    .dataframe thead th {\n        text-align: right;\n    }\n</style>\n<table border=\"1\" class=\"dataframe\">\n  <thead>\n    <tr style=\"text-align: right;\">\n      <th></th>\n      <th>Location</th>\n      <th>Borough</th>\n      <th>Postcode</th>\n      <th>Latitude</th>\n      <th>Longitude</th>\n    </tr>\n  </thead>\n  <tbody>\n    <tr>\n      <th>20</th>\n      <td>Lewisham</td>\n      <td>Lewisham</td>\n      <td>SE13</td>\n      <td>51.46196</td>\n      <td>-0.00754</td>\n    </tr>\n  </tbody>\n</table>\n</div>"
                    },
                    "metadata": {}
                }
            ]
        },
        {
            "metadata": {},
            "cell_type": "markdown",
            "source": "Now, let's use the Lewisham with the index location 20."
        },
        {
            "metadata": {},
            "cell_type": "code",
            "source": "se_df.loc[20, 'Location']",
            "execution_count": 60,
            "outputs": [
                {
                    "output_type": "execute_result",
                    "execution_count": 60,
                    "data": {
                        "text/plain": "'Lewisham'"
                    },
                    "metadata": {}
                }
            ]
        },
        {
            "metadata": {},
            "cell_type": "code",
            "source": "lewisham_lat = se_df.loc[20, 'Latitude']\nlewisham_long = se_df.loc[20, 'Longitude']\nlewisham_loc = se_df.loc[20, 'Location']\nlewisham_postcode = se_df.loc[20, 'Postcode']\n\nprint('The latitude and longitude values of {} with postcode {}, are {}, {}.'.format(lewisham_loc,\n                                                                                         lewisham_postcode,\n                                                                                         lewisham_lat,\n                                                                                         lewisham_long))",
            "execution_count": 61,
            "outputs": [
                {
                    "output_type": "stream",
                    "text": "The latitude and longitude values of Lewisham with postcode SE13, are 51.46196000000003, -0.007539999999949032.\n",
                    "name": "stdout"
                }
            ]
        },
        {
            "metadata": {},
            "cell_type": "markdown",
            "source": "Let's explore the top 100 venues that are within a 2000 metres radius of Lewisham.<br/>\n\nAnd then, let's create the GET request URL, and then the url is named."
        },
        {
            "metadata": {},
            "cell_type": "code",
            "source": "# Credentials are provided already for this part\nLIMIT = 100 # limit of number of venues returned by Foursquare API\nradius = 2000 # define radius\nurl = 'https://api.foursquare.com/v2/venues/explore?&client_id={}&client_secret={}&v={}&ll={},{}&radius={}&limit={}'.format(\n    CLIENT_ID, \n    CLIENT_SECRET, \n    VERSION, \n    lewisham_lat, \n    lewisham_long, \n    radius, \n    LIMIT)\n\n# displays URL\nurl",
            "execution_count": 68,
            "outputs": [
                {
                    "output_type": "error",
                    "ename": "NameError",
                    "evalue": "name 'CLIENT_ID' is not defined",
                    "traceback": [
                        "\u001b[0;31m---------------------------------------------------------------------------\u001b[0m",
                        "\u001b[0;31mNameError\u001b[0m                                 Traceback (most recent call last)",
                        "\u001b[0;32m<ipython-input-68-e29580d335df>\u001b[0m in \u001b[0;36m<module>\u001b[0;34m\u001b[0m\n\u001b[1;32m      3\u001b[0m \u001b[0mradius\u001b[0m \u001b[0;34m=\u001b[0m \u001b[0;36m2000\u001b[0m \u001b[0;31m# define radius\u001b[0m\u001b[0;34m\u001b[0m\u001b[0;34m\u001b[0m\u001b[0m\n\u001b[1;32m      4\u001b[0m url = 'https://api.foursquare.com/v2/venues/explore?&client_id={}&client_secret={}&v={}&ll={},{}&radius={}&limit={}'.format(\n\u001b[0;32m----> 5\u001b[0;31m     \u001b[0mCLIENT_ID\u001b[0m\u001b[0;34m,\u001b[0m\u001b[0;34m\u001b[0m\u001b[0;34m\u001b[0m\u001b[0m\n\u001b[0m\u001b[1;32m      6\u001b[0m     \u001b[0mCLIENT_SECRET\u001b[0m\u001b[0;34m,\u001b[0m\u001b[0;34m\u001b[0m\u001b[0;34m\u001b[0m\u001b[0m\n\u001b[1;32m      7\u001b[0m     \u001b[0mVERSION\u001b[0m\u001b[0;34m,\u001b[0m\u001b[0;34m\u001b[0m\u001b[0;34m\u001b[0m\u001b[0m\n",
                        "\u001b[0;31mNameError\u001b[0m: name 'CLIENT_ID' is not defined"
                    ]
                }
            ]
        },
        {
            "metadata": {},
            "cell_type": "markdown",
            "source": "Then, send the GET request and examine the results."
        },
        {
            "metadata": {},
            "cell_type": "code",
            "source": "results = requests.get(url).json()\nresults",
            "execution_count": 67,
            "outputs": [
                {
                    "output_type": "error",
                    "ename": "NameError",
                    "evalue": "name 'url' is not defined",
                    "traceback": [
                        "\u001b[0;31m---------------------------------------------------------------------------\u001b[0m",
                        "\u001b[0;31mNameError\u001b[0m                                 Traceback (most recent call last)",
                        "\u001b[0;32m<ipython-input-67-f048ffce0a17>\u001b[0m in \u001b[0;36m<module>\u001b[0;34m\u001b[0m\n\u001b[0;32m----> 1\u001b[0;31m \u001b[0mresults\u001b[0m \u001b[0;34m=\u001b[0m \u001b[0mrequests\u001b[0m\u001b[0;34m.\u001b[0m\u001b[0mget\u001b[0m\u001b[0;34m(\u001b[0m\u001b[0murl\u001b[0m\u001b[0;34m)\u001b[0m\u001b[0;34m.\u001b[0m\u001b[0mjson\u001b[0m\u001b[0;34m(\u001b[0m\u001b[0;34m)\u001b[0m\u001b[0;34m\u001b[0m\u001b[0;34m\u001b[0m\u001b[0m\n\u001b[0m\u001b[1;32m      2\u001b[0m \u001b[0mresults\u001b[0m\u001b[0;34m\u001b[0m\u001b[0;34m\u001b[0m\u001b[0m\n",
                        "\u001b[0;31mNameError\u001b[0m: name 'url' is not defined"
                    ]
                }
            ]
        },
        {
            "metadata": {},
            "cell_type": "markdown",
            "source": "From the results, the necessary information needs to be obtained from items key. To do this, the get_category_type function is used from the Foursquare lab."
        },
        {
            "metadata": {},
            "cell_type": "code",
            "source": "# function that extracts the category of the venue\ndef get_category_type(row):\n    try:\n        categories_list = row['categories']\n    except:\n        categories_list = row['venue.categories']\n        \n    if len(categories_list) == 0:\n        return None\n    else:\n        return categories_list[0]['name']",
            "execution_count": 1,
            "outputs": []
        },
        {
            "metadata": {},
            "cell_type": "markdown",
            "source": "The result is then cleaned up from json to a structured pandas dataframe as shown below :"
        },
        {
            "metadata": {},
            "cell_type": "code",
            "source": "venues = results['response']['groups'][0]['items']\n    \nnearby_venues = json_normalize(venues) # flatten JSON\n\n# filter columns\nfiltered_columns = ['venue.name', 'venue.categories', 'venue.location.lat', 'venue.location.lng']\nnearby_venues =nearby_venues.loc[:, filtered_columns]\n\n# filter the category for each row\nnearby_venues['venue.categories'] = nearby_venues.apply(get_category_type, axis=1)\n\n# clean columns\nnearby_venues.columns = [col.split(\".\")[-1] for col in nearby_venues.columns]",
            "execution_count": 2,
            "outputs": [
                {
                    "output_type": "error",
                    "ename": "NameError",
                    "evalue": "name 'results' is not defined",
                    "traceback": [
                        "\u001b[0;31m---------------------------------------------------------------------------\u001b[0m",
                        "\u001b[0;31mNameError\u001b[0m                                 Traceback (most recent call last)",
                        "\u001b[0;32m<ipython-input-2-5f8be7462ffd>\u001b[0m in \u001b[0;36m<module>\u001b[0;34m\u001b[0m\n\u001b[0;32m----> 1\u001b[0;31m \u001b[0mvenues\u001b[0m \u001b[0;34m=\u001b[0m \u001b[0mresults\u001b[0m\u001b[0;34m[\u001b[0m\u001b[0;34m'response'\u001b[0m\u001b[0;34m]\u001b[0m\u001b[0;34m[\u001b[0m\u001b[0;34m'groups'\u001b[0m\u001b[0;34m]\u001b[0m\u001b[0;34m[\u001b[0m\u001b[0;36m0\u001b[0m\u001b[0;34m]\u001b[0m\u001b[0;34m[\u001b[0m\u001b[0;34m'items'\u001b[0m\u001b[0;34m]\u001b[0m\u001b[0;34m\u001b[0m\u001b[0;34m\u001b[0m\u001b[0m\n\u001b[0m\u001b[1;32m      2\u001b[0m \u001b[0;34m\u001b[0m\u001b[0m\n\u001b[1;32m      3\u001b[0m \u001b[0mnearby_venues\u001b[0m \u001b[0;34m=\u001b[0m \u001b[0mjson_normalize\u001b[0m\u001b[0;34m(\u001b[0m\u001b[0mvenues\u001b[0m\u001b[0;34m)\u001b[0m \u001b[0;31m# flatten JSON\u001b[0m\u001b[0;34m\u001b[0m\u001b[0;34m\u001b[0m\u001b[0m\n\u001b[1;32m      4\u001b[0m \u001b[0;34m\u001b[0m\u001b[0m\n\u001b[1;32m      5\u001b[0m \u001b[0;31m# filter columns\u001b[0m\u001b[0;34m\u001b[0m\u001b[0;34m\u001b[0m\u001b[0;34m\u001b[0m\u001b[0m\n",
                        "\u001b[0;31mNameError\u001b[0m: name 'results' is not defined"
                    ]
                }
            ]
        },
        {
            "metadata": {},
            "cell_type": "code",
            "source": "nearby_venues",
            "execution_count": 3,
            "outputs": [
                {
                    "output_type": "error",
                    "ename": "NameError",
                    "evalue": "name 'nearby_venues' is not defined",
                    "traceback": [
                        "\u001b[0;31m---------------------------------------------------------------------------\u001b[0m",
                        "\u001b[0;31mNameError\u001b[0m                                 Traceback (most recent call last)",
                        "\u001b[0;32m<ipython-input-3-77c5a4b67562>\u001b[0m in \u001b[0;36m<module>\u001b[0;34m\u001b[0m\n\u001b[0;32m----> 1\u001b[0;31m \u001b[0mnearby_venues\u001b[0m\u001b[0;34m\u001b[0m\u001b[0;34m\u001b[0m\u001b[0m\n\u001b[0m",
                        "\u001b[0;31mNameError\u001b[0m: name 'nearby_venues' is not defined"
                    ]
                }
            ]
        },
        {
            "metadata": {},
            "cell_type": "code",
            "source": "nearby_venues_lewisham_unique = nearby_venues['categories'].value_counts().to_frame(name='Count')",
            "execution_count": 4,
            "outputs": [
                {
                    "output_type": "error",
                    "ename": "NameError",
                    "evalue": "name 'nearby_venues' is not defined",
                    "traceback": [
                        "\u001b[0;31m---------------------------------------------------------------------------\u001b[0m",
                        "\u001b[0;31mNameError\u001b[0m                                 Traceback (most recent call last)",
                        "\u001b[0;32m<ipython-input-4-16e021780065>\u001b[0m in \u001b[0;36m<module>\u001b[0;34m\u001b[0m\n\u001b[0;32m----> 1\u001b[0;31m \u001b[0mnearby_venues_lewisham_unique\u001b[0m \u001b[0;34m=\u001b[0m \u001b[0mnearby_venues\u001b[0m\u001b[0;34m[\u001b[0m\u001b[0;34m'categories'\u001b[0m\u001b[0;34m]\u001b[0m\u001b[0;34m.\u001b[0m\u001b[0mvalue_counts\u001b[0m\u001b[0;34m(\u001b[0m\u001b[0;34m)\u001b[0m\u001b[0;34m.\u001b[0m\u001b[0mto_frame\u001b[0m\u001b[0;34m(\u001b[0m\u001b[0mname\u001b[0m\u001b[0;34m=\u001b[0m\u001b[0;34m'Count'\u001b[0m\u001b[0;34m)\u001b[0m\u001b[0;34m\u001b[0m\u001b[0;34m\u001b[0m\u001b[0m\n\u001b[0m",
                        "\u001b[0;31mNameError\u001b[0m: name 'nearby_venues' is not defined"
                    ]
                }
            ]
        },
        {
            "metadata": {},
            "cell_type": "code",
            "source": "nearby_venues_lewisham_unique.head()",
            "execution_count": 5,
            "outputs": [
                {
                    "output_type": "error",
                    "ename": "NameError",
                    "evalue": "name 'nearby_venues_lewisham_unique' is not defined",
                    "traceback": [
                        "\u001b[0;31m---------------------------------------------------------------------------\u001b[0m",
                        "\u001b[0;31mNameError\u001b[0m                                 Traceback (most recent call last)",
                        "\u001b[0;32m<ipython-input-5-ecb0b02d350c>\u001b[0m in \u001b[0;36m<module>\u001b[0;34m\u001b[0m\n\u001b[0;32m----> 1\u001b[0;31m \u001b[0mnearby_venues_lewisham_unique\u001b[0m\u001b[0;34m.\u001b[0m\u001b[0mhead\u001b[0m\u001b[0;34m(\u001b[0m\u001b[0;34m)\u001b[0m\u001b[0;34m\u001b[0m\u001b[0;34m\u001b[0m\u001b[0m\n\u001b[0m",
                        "\u001b[0;31mNameError\u001b[0m: name 'nearby_venues_lewisham_unique' is not defined"
                    ]
                }
            ]
        },
        {
            "metadata": {},
            "cell_type": "markdown",
            "source": "Interestingly, even though there are restaurants are the Lewisham area, they are not even in the top 5 venues. It should be noted that since we are limited by data availability, our perspectives will be on what we have."
        },
        {
            "metadata": {},
            "cell_type": "code",
            "source": "print('{} venues were returned by Foursquare.'.format(nearby_venues.shape[0]))",
            "execution_count": 6,
            "outputs": [
                {
                    "output_type": "error",
                    "ename": "NameError",
                    "evalue": "name 'nearby_venues' is not defined",
                    "traceback": [
                        "\u001b[0;31m---------------------------------------------------------------------------\u001b[0m",
                        "\u001b[0;31mNameError\u001b[0m                                 Traceback (most recent call last)",
                        "\u001b[0;32m<ipython-input-6-8d3c8155afff>\u001b[0m in \u001b[0;36m<module>\u001b[0;34m\u001b[0m\n\u001b[0;32m----> 1\u001b[0;31m \u001b[0mprint\u001b[0m\u001b[0;34m(\u001b[0m\u001b[0;34m'{} venues were returned by Foursquare.'\u001b[0m\u001b[0;34m.\u001b[0m\u001b[0mformat\u001b[0m\u001b[0;34m(\u001b[0m\u001b[0mnearby_venues\u001b[0m\u001b[0;34m.\u001b[0m\u001b[0mshape\u001b[0m\u001b[0;34m[\u001b[0m\u001b[0;36m0\u001b[0m\u001b[0;34m]\u001b[0m\u001b[0;34m)\u001b[0m\u001b[0;34m)\u001b[0m\u001b[0;34m\u001b[0m\u001b[0;34m\u001b[0m\u001b[0m\n\u001b[0m",
                        "\u001b[0;31mNameError\u001b[0m: name 'nearby_venues' is not defined"
                    ]
                }
            ]
        },
        {
            "metadata": {},
            "cell_type": "markdown",
            "source": "### b. Multiple Neighbourhoods\n\nNow let's explore (Multiple) Neighborhoods in the South East London area.<br/>\n\nTo do this, the function getNearbyVenues is used and it's created to repeat the same process for all neighborhoods."
        },
        {
            "metadata": {},
            "cell_type": "code",
            "source": "def getNearbyVenues(names, latitudes, longitudes, radius=2000):\n    \n    venues_list=[]\n    for name, lat, lng in zip(names, latitudes, longitudes):\n        print(name)\n            \n        # create the API request URL\n        url = 'https://api.foursquare.com/v2/venues/explore?&client_id={}&client_secret={}&v={}&ll={},{}&radius={}&limit={}'.format(\n            CLIENT_ID, \n            CLIENT_SECRET, \n            VERSION, \n            lat, \n            lng, \n            radius, \n            LIMIT)\n            \n        # make the GET request\n        results = requests.get(url).json()[\"response\"]['groups'][0]['items']\n        \n        # return only relevant information for each nearby venue\n        venues_list.append([(\n            name, \n            lat, \n            lng, \n            v['venue']['name'], \n            v['venue']['location']['lat'], \n            v['venue']['location']['lng'],  \n            v['venue']['categories'][0]['name']) for v in results])\n\n    nearby_venues = pd.DataFrame([item for venue_list in venues_list for item in venue_list])\n    nearby_venues.columns = ['Neighbourhood', \n                  'Neighbourhood Latitude', \n                  'Neighbourhood Longitude', \n                  'Venue', \n                  'Venue Latitude', \n                  'Venue Longitude', \n                  'Venue Category']\n    \n    return(nearby_venues)",
            "execution_count": 7,
            "outputs": []
        },
        {
            "metadata": {},
            "cell_type": "markdown",
            "source": "The created function - getNearbyVenues is then used on each neighbourhoods. And creates a new dataframe called london_venues."
        },
        {
            "metadata": {},
            "cell_type": "code",
            "source": "se_venues = getNearbyVenues(names=se_df['Location'],\n                                   latitudes=se_df['Latitude'],\n                                   longitudes=se_df['Longitude']\n                                  )",
            "execution_count": 8,
            "outputs": [
                {
                    "output_type": "error",
                    "ename": "NameError",
                    "evalue": "name 'se_df' is not defined",
                    "traceback": [
                        "\u001b[0;31m---------------------------------------------------------------------------\u001b[0m",
                        "\u001b[0;31mNameError\u001b[0m                                 Traceback (most recent call last)",
                        "\u001b[0;32m<ipython-input-8-9182c0e32a43>\u001b[0m in \u001b[0;36m<module>\u001b[0;34m\u001b[0m\n\u001b[0;32m----> 1\u001b[0;31m se_venues = getNearbyVenues(names=se_df['Location'],\n\u001b[0m\u001b[1;32m      2\u001b[0m                                    \u001b[0mlatitudes\u001b[0m\u001b[0;34m=\u001b[0m\u001b[0mse_df\u001b[0m\u001b[0;34m[\u001b[0m\u001b[0;34m'Latitude'\u001b[0m\u001b[0;34m]\u001b[0m\u001b[0;34m,\u001b[0m\u001b[0;34m\u001b[0m\u001b[0;34m\u001b[0m\u001b[0m\n\u001b[1;32m      3\u001b[0m                                    \u001b[0mlongitudes\u001b[0m\u001b[0;34m=\u001b[0m\u001b[0mse_df\u001b[0m\u001b[0;34m[\u001b[0m\u001b[0;34m'Longitude'\u001b[0m\u001b[0;34m]\u001b[0m\u001b[0;34m\u001b[0m\u001b[0;34m\u001b[0m\u001b[0m\n\u001b[1;32m      4\u001b[0m                                   )\n",
                        "\u001b[0;31mNameError\u001b[0m: name 'se_df' is not defined"
                    ]
                }
            ]
        },
        {
            "metadata": {},
            "cell_type": "code",
            "source": "se_venues.shape",
            "execution_count": null,
            "outputs": []
        },
        {
            "metadata": {},
            "cell_type": "code",
            "source": "len(se_venues)",
            "execution_count": null,
            "outputs": []
        },
        {
            "metadata": {},
            "cell_type": "code",
            "source": "se_venues['Neighbourhood'].value_counts()\nse_venues.to_csv('se_venues.csv')",
            "execution_count": null,
            "outputs": []
        },
        {
            "metadata": {},
            "cell_type": "code",
            "source": "se_venues.head()",
            "execution_count": null,
            "outputs": []
        },
        {
            "metadata": {},
            "cell_type": "markdown",
            "source": "The number of venues returned for each neighbourhoods is then explored as follows :"
        },
        {
            "metadata": {},
            "cell_type": "code",
            "source": "se_venues.groupby('Neighbourhood').count()",
            "execution_count": null,
            "outputs": []
        },
        {
            "metadata": {},
            "cell_type": "markdown",
            "source": "The next step is to check how many unique categories can be returned for the venues. See as follows :"
        },
        {
            "metadata": {},
            "cell_type": "code",
            "source": "print('There are {} uniques categories.'.format(len(se_venues['Venue Category'].unique())))",
            "execution_count": null,
            "outputs": []
        },
        {
            "metadata": {},
            "cell_type": "code",
            "source": "se_venue_unique_count = se_venues['Venue Category'].value_counts().to_frame(name='Count')",
            "execution_count": null,
            "outputs": []
        },
        {
            "metadata": {},
            "cell_type": "code",
            "source": "se_venue_unique_count.head(5)",
            "execution_count": null,
            "outputs": []
        },
        {
            "metadata": {},
            "cell_type": "code",
            "source": "se_venue_unique_count.describe()",
            "execution_count": null,
            "outputs": []
        },
        {
            "metadata": {},
            "cell_type": "markdown",
            "source": "<h3>3.2 Clustering</h3>\nFor this section, the neighbourhoods in South East London will be clustered based on the processed data obtained above.\n\n<h3>3.2.1 Libraries</h3>\nTo get started, all the necessary libraries have been called in the libraries section above.\n\n<h3>3.2.2 Map Visualization</h3>\nUsing the geopy library, the latitude and longitude values of London is obtained."
        },
        {
            "metadata": {},
            "cell_type": "code",
            "source": "address = 'London, United Kingdom'\n\ngeolocator = Nominatim(user_agent=\"ln_explorer\")\nlocation = geolocator.geocode(address)\nlatitude = location.latitude\nlongitude = location.longitude\nprint('The geograpical coordinate of London are {}, {}.'.format(latitude, longitude))",
            "execution_count": 9,
            "outputs": [
                {
                    "output_type": "error",
                    "ename": "NameError",
                    "evalue": "name 'Nominatim' is not defined",
                    "traceback": [
                        "\u001b[0;31m---------------------------------------------------------------------------\u001b[0m",
                        "\u001b[0;31mNameError\u001b[0m                                 Traceback (most recent call last)",
                        "\u001b[0;32m<ipython-input-9-af37155384ba>\u001b[0m in \u001b[0;36m<module>\u001b[0;34m\u001b[0m\n\u001b[1;32m      1\u001b[0m \u001b[0maddress\u001b[0m \u001b[0;34m=\u001b[0m \u001b[0;34m'London, United Kingdom'\u001b[0m\u001b[0;34m\u001b[0m\u001b[0;34m\u001b[0m\u001b[0m\n\u001b[1;32m      2\u001b[0m \u001b[0;34m\u001b[0m\u001b[0m\n\u001b[0;32m----> 3\u001b[0;31m \u001b[0mgeolocator\u001b[0m \u001b[0;34m=\u001b[0m \u001b[0mNominatim\u001b[0m\u001b[0;34m(\u001b[0m\u001b[0muser_agent\u001b[0m\u001b[0;34m=\u001b[0m\u001b[0;34m\"ln_explorer\"\u001b[0m\u001b[0;34m)\u001b[0m\u001b[0;34m\u001b[0m\u001b[0;34m\u001b[0m\u001b[0m\n\u001b[0m\u001b[1;32m      4\u001b[0m \u001b[0mlocation\u001b[0m \u001b[0;34m=\u001b[0m \u001b[0mgeolocator\u001b[0m\u001b[0;34m.\u001b[0m\u001b[0mgeocode\u001b[0m\u001b[0;34m(\u001b[0m\u001b[0maddress\u001b[0m\u001b[0;34m)\u001b[0m\u001b[0;34m\u001b[0m\u001b[0;34m\u001b[0m\u001b[0m\n\u001b[1;32m      5\u001b[0m \u001b[0mlatitude\u001b[0m \u001b[0;34m=\u001b[0m \u001b[0mlocation\u001b[0m\u001b[0;34m.\u001b[0m\u001b[0mlatitude\u001b[0m\u001b[0;34m\u001b[0m\u001b[0;34m\u001b[0m\u001b[0m\n",
                        "\u001b[0;31mNameError\u001b[0m: name 'Nominatim' is not defined"
                    ]
                }
            ]
        },
        {
            "metadata": {},
            "cell_type": "markdown",
            "source": "The folium library is then used to obtain the coordinates."
        },
        {
            "metadata": {},
            "cell_type": "code",
            "source": "# df_london_coordinates\nmap_london = folium.Map(location = [latitude, longitude], zoom_start = 12)\nmap_london",
            "execution_count": 10,
            "outputs": [
                {
                    "output_type": "error",
                    "ename": "NameError",
                    "evalue": "name 'folium' is not defined",
                    "traceback": [
                        "\u001b[0;31m---------------------------------------------------------------------------\u001b[0m",
                        "\u001b[0;31mNameError\u001b[0m                                 Traceback (most recent call last)",
                        "\u001b[0;32m<ipython-input-10-78e457e75a97>\u001b[0m in \u001b[0;36m<module>\u001b[0;34m\u001b[0m\n\u001b[1;32m      1\u001b[0m \u001b[0;31m# df_london_coordinates\u001b[0m\u001b[0;34m\u001b[0m\u001b[0;34m\u001b[0m\u001b[0;34m\u001b[0m\u001b[0m\n\u001b[0;32m----> 2\u001b[0;31m \u001b[0mmap_london\u001b[0m \u001b[0;34m=\u001b[0m \u001b[0mfolium\u001b[0m\u001b[0;34m.\u001b[0m\u001b[0mMap\u001b[0m\u001b[0;34m(\u001b[0m\u001b[0mlocation\u001b[0m \u001b[0;34m=\u001b[0m \u001b[0;34m[\u001b[0m\u001b[0mlatitude\u001b[0m\u001b[0;34m,\u001b[0m \u001b[0mlongitude\u001b[0m\u001b[0;34m]\u001b[0m\u001b[0;34m,\u001b[0m \u001b[0mzoom_start\u001b[0m \u001b[0;34m=\u001b[0m \u001b[0;36m12\u001b[0m\u001b[0;34m)\u001b[0m\u001b[0;34m\u001b[0m\u001b[0;34m\u001b[0m\u001b[0m\n\u001b[0m\u001b[1;32m      3\u001b[0m \u001b[0mmap_london\u001b[0m\u001b[0;34m\u001b[0m\u001b[0;34m\u001b[0m\u001b[0m\n",
                        "\u001b[0;31mNameError\u001b[0m: name 'folium' is not defined"
                    ]
                }
            ]
        },
        {
            "metadata": {},
            "cell_type": "markdown",
            "source": "The South East London neighbourhoods are then superimposed on top as shown below, still using the foliumlibrary. Please note due to the location of the South East Loondon, you might need to zoom to see the superimposed areas."
        },
        {
            "metadata": {},
            "cell_type": "code",
            "source": "# Adding markers to map\nfor lat, lng, borough, loc in zip(se_df['Latitude'], \n                                  se_df['Longitude'],\n                                  se_df['Borough'],\n                                  se_df['Location']):\n    label = '{} - {}'.format(loc, borough)\n    label = folium.Popup(label, parse_html=True)\n    folium.CircleMarker(\n        [lat, lng],\n        radius=5,\n        popup=label,\n        color='blue',\n        fill=True,\n        fill_color='#3186cc',\n        fill_opacity=0.7).add_to(map_london)  \n    \ndisplay(map_london)",
            "execution_count": 11,
            "outputs": [
                {
                    "output_type": "error",
                    "ename": "NameError",
                    "evalue": "name 'se_df' is not defined",
                    "traceback": [
                        "\u001b[0;31m---------------------------------------------------------------------------\u001b[0m",
                        "\u001b[0;31mNameError\u001b[0m                                 Traceback (most recent call last)",
                        "\u001b[0;32m<ipython-input-11-c85ddf2c45ab>\u001b[0m in \u001b[0;36m<module>\u001b[0;34m\u001b[0m\n\u001b[1;32m      1\u001b[0m \u001b[0;31m# Adding markers to map\u001b[0m\u001b[0;34m\u001b[0m\u001b[0;34m\u001b[0m\u001b[0;34m\u001b[0m\u001b[0m\n\u001b[0;32m----> 2\u001b[0;31m for lat, lng, borough, loc in zip(se_df['Latitude'], \n\u001b[0m\u001b[1;32m      3\u001b[0m                                   \u001b[0mse_df\u001b[0m\u001b[0;34m[\u001b[0m\u001b[0;34m'Longitude'\u001b[0m\u001b[0;34m]\u001b[0m\u001b[0;34m,\u001b[0m\u001b[0;34m\u001b[0m\u001b[0;34m\u001b[0m\u001b[0m\n\u001b[1;32m      4\u001b[0m                                   \u001b[0mse_df\u001b[0m\u001b[0;34m[\u001b[0m\u001b[0;34m'Borough'\u001b[0m\u001b[0;34m]\u001b[0m\u001b[0;34m,\u001b[0m\u001b[0;34m\u001b[0m\u001b[0;34m\u001b[0m\u001b[0m\n\u001b[1;32m      5\u001b[0m                                   se_df['Location']):\n",
                        "\u001b[0;31mNameError\u001b[0m: name 'se_df' is not defined"
                    ]
                }
            ]
        },
        {
            "metadata": {},
            "cell_type": "code",
            "source": "type(se_df)",
            "execution_count": 12,
            "outputs": [
                {
                    "output_type": "error",
                    "ename": "NameError",
                    "evalue": "name 'se_df' is not defined",
                    "traceback": [
                        "\u001b[0;31m---------------------------------------------------------------------------\u001b[0m",
                        "\u001b[0;31mNameError\u001b[0m                                 Traceback (most recent call last)",
                        "\u001b[0;32m<ipython-input-12-5b6057430186>\u001b[0m in \u001b[0;36m<module>\u001b[0;34m\u001b[0m\n\u001b[0;32m----> 1\u001b[0;31m \u001b[0mtype\u001b[0m\u001b[0;34m(\u001b[0m\u001b[0mse_df\u001b[0m\u001b[0;34m)\u001b[0m\u001b[0;34m\u001b[0m\u001b[0;34m\u001b[0m\u001b[0m\n\u001b[0m",
                        "\u001b[0;31mNameError\u001b[0m: name 'se_df' is not defined"
                    ]
                }
            ]
        },
        {
            "metadata": {},
            "cell_type": "markdown",
            "source": "<h3>3.2.3 Analysing Each Neighborhood</h3>\nIn this section, the objective is to check and explore the venues in each neighbourhood.\n\n### One Hot Encoding"
        },
        {
            "metadata": {},
            "cell_type": "code",
            "source": "# one hot encoding\nse_onehot = pd.get_dummies(se_venues[['Venue Category']], prefix = \"\", prefix_sep = \"\")",
            "execution_count": 13,
            "outputs": [
                {
                    "output_type": "error",
                    "ename": "NameError",
                    "evalue": "name 'pd' is not defined",
                    "traceback": [
                        "\u001b[0;31m---------------------------------------------------------------------------\u001b[0m",
                        "\u001b[0;31mNameError\u001b[0m                                 Traceback (most recent call last)",
                        "\u001b[0;32m<ipython-input-13-36d45d0b91b8>\u001b[0m in \u001b[0;36m<module>\u001b[0;34m\u001b[0m\n\u001b[1;32m      1\u001b[0m \u001b[0;31m# one hot encoding\u001b[0m\u001b[0;34m\u001b[0m\u001b[0;34m\u001b[0m\u001b[0;34m\u001b[0m\u001b[0m\n\u001b[0;32m----> 2\u001b[0;31m \u001b[0mse_onehot\u001b[0m \u001b[0;34m=\u001b[0m \u001b[0mpd\u001b[0m\u001b[0;34m.\u001b[0m\u001b[0mget_dummies\u001b[0m\u001b[0;34m(\u001b[0m\u001b[0mse_venues\u001b[0m\u001b[0;34m[\u001b[0m\u001b[0;34m[\u001b[0m\u001b[0;34m'Venue Category'\u001b[0m\u001b[0;34m]\u001b[0m\u001b[0;34m]\u001b[0m\u001b[0;34m,\u001b[0m \u001b[0mprefix\u001b[0m \u001b[0;34m=\u001b[0m \u001b[0;34m\"\"\u001b[0m\u001b[0;34m,\u001b[0m \u001b[0mprefix_sep\u001b[0m \u001b[0;34m=\u001b[0m \u001b[0;34m\"\"\u001b[0m\u001b[0;34m)\u001b[0m\u001b[0;34m\u001b[0m\u001b[0;34m\u001b[0m\u001b[0m\n\u001b[0m",
                        "\u001b[0;31mNameError\u001b[0m: name 'pd' is not defined"
                    ]
                }
            ]
        },
        {
            "metadata": {},
            "cell_type": "markdown",
            "source": "Then the Neighbourhoodcolumn is added back to the dataframe."
        },
        {
            "metadata": {},
            "cell_type": "code",
            "source": "# add neighborhood column back to dataframe\nse_onehot['Neighbourhood'] = se_venues['Neighbourhood']",
            "execution_count": null,
            "outputs": []
        },
        {
            "metadata": {},
            "cell_type": "markdown",
            "source": "Some re-arrangement - move the new Neighbourhood column to the first column."
        },
        {
            "metadata": {},
            "cell_type": "code",
            "source": "# move neighborhood column to the first column\nfixed_columns = [se_onehot.columns[-1]] + list(se_onehot.columns[:-1])\nse_onehot = se_onehot[fixed_columns]",
            "execution_count": null,
            "outputs": []
        },
        {
            "metadata": {},
            "cell_type": "markdown",
            "source": "Therefore, the new one hot encoded dataframe is :"
        },
        {
            "metadata": {},
            "cell_type": "code",
            "source": "se_onehot.head()",
            "execution_count": null,
            "outputs": []
        },
        {
            "metadata": {},
            "cell_type": "code",
            "source": "se_onehot.loc[se_onehot['African Restaurant'] != 0]",
            "execution_count": null,
            "outputs": []
        },
        {
            "metadata": {},
            "cell_type": "code",
            "source": "se_onehot.loc[se_onehot['Neighbourhood'] == 'Lewisham']",
            "execution_count": null,
            "outputs": []
        },
        {
            "metadata": {},
            "cell_type": "markdown",
            "source": "As can be seen from above, Lewisham with its demography has no African restaurants within the top spots."
        },
        {
            "metadata": {},
            "cell_type": "code",
            "source": "se_onehot.to_csv('selondon_onehot.csv', index = False)",
            "execution_count": null,
            "outputs": []
        },
        {
            "metadata": {},
            "cell_type": "markdown",
            "source": "The new dataframe size is given below :"
        },
        {
            "metadata": {},
            "cell_type": "code",
            "source": "se_onehot.shape",
            "execution_count": null,
            "outputs": []
        },
        {
            "metadata": {},
            "cell_type": "markdown",
            "source": "### Regrouping and Category Statistics"
        },
        {
            "metadata": {},
            "cell_type": "code",
            "source": "se_grouped = se_onehot.groupby('Neighbourhood').mean().reset_index()\nse_grouped.head()",
            "execution_count": null,
            "outputs": []
        },
        {
            "metadata": {},
            "cell_type": "code",
            "source": "print(\"Before One-hot encoding:\", se_df.shape)\nprint(\"After One-hot encoding:\", se_grouped.shape)",
            "execution_count": null,
            "outputs": []
        },
        {
            "metadata": {},
            "cell_type": "code",
            "source": "se_grouped.to_csv('london_grouped.csv', index = False)",
            "execution_count": null,
            "outputs": []
        },
        {
            "metadata": {},
            "cell_type": "markdown",
            "source": "Grouping of each Neighbourhoods with 10 common venues :"
        },
        {
            "metadata": {},
            "cell_type": "code",
            "source": "num_top_venues = 10 # Top common venues needed\n\nfor hood in se_grouped['Neighbourhood']:\n    print(\"----\"+hood+\"----\")\n    temp = se_grouped[se_grouped['Neighbourhood'] == hood].T.reset_index()\n    temp.columns = ['venue', 'freq']\n    temp = temp.iloc[1:]\n    temp['freq'] = temp['freq'].astype(float)\n    temp = temp.round({'freq': 2})\n    print(temp.sort_values('freq', ascending = False).reset_index(drop = True).head(num_top_venues))\n    print('\\n')",
            "execution_count": null,
            "outputs": []
        },
        {
            "metadata": {},
            "cell_type": "markdown",
            "source": "### Creating new dataframe :\n\n<p>Putting the common venues into pandas dataframe, the following return_most_common_venuesis used to sort the venues in descending order.</p>"
        },
        {
            "metadata": {},
            "cell_type": "code",
            "source": "def return_most_common_venues(row, num_top_venues):\n    row_categories = row.iloc[1:]\n    row_categories_sorted = row_categories.sort_values(ascending = False)\n    \n    return row_categories_sorted.index.values[0:num_top_venues]",
            "execution_count": null,
            "outputs": []
        },
        {
            "metadata": {},
            "cell_type": "markdown",
            "source": "Then we create a new panda dataframe with 10 most common venues as shown below :"
        },
        {
            "metadata": {},
            "cell_type": "code",
            "source": "num_top_venues = 10\n\nindicators = ['st', 'nd', 'rd']\n\n# create columns according to number of top venues\ncolumns = ['Neighbourhood']\nfor ind in np.arange(num_top_venues):\n    try:\n        columns.append('{}{} Most Common Venue'.format(ind+1, indicators[ind]))\n    except:\n        columns.append('{}th Most Common Venue'.format(ind+1))\n\n# create a new dataframe\nneighbourhoods_venues_sorted = pd.DataFrame(columns=columns)\nneighbourhoods_venues_sorted['Neighbourhood'] = se_grouped['Neighbourhood']\n\nfor ind in np.arange(se_grouped.shape[0]):\n    neighbourhoods_venues_sorted.iloc[ind, 1:] = return_most_common_venues(se_grouped.iloc[ind, :], num_top_venues)",
            "execution_count": null,
            "outputs": []
        },
        {
            "metadata": {},
            "cell_type": "code",
            "source": "neighbourhoods_venues_sorted.head()",
            "execution_count": null,
            "outputs": []
        },
        {
            "metadata": {},
            "cell_type": "code",
            "source": "neighbourhoods_venues_sorted.to_csv('neighbourhoods_venues_sorted.csv', index = False)",
            "execution_count": null,
            "outputs": []
        },
        {
            "metadata": {},
            "cell_type": "code",
            "source": "se_grouped_clustering = se_grouped.drop('Neighbourhood', 1)",
            "execution_count": null,
            "outputs": []
        },
        {
            "metadata": {},
            "cell_type": "markdown",
            "source": "<h3>3.2.4 Clustering of Neighbourhoods</h3>\n\nThe next thing to do now, is to create clusters of the neighbourhood using the k-means to cluster the neighbourhood into 5 clusters."
        },
        {
            "metadata": {},
            "cell_type": "code",
            "source": "# set number of clusters\nkclusters = 5\n\n# run k-means clustering\nkmeans = KMeans(n_clusters = kclusters, random_state=0).fit(se_grouped_clustering)\n\n# check cluster labels generated for each row in the dataframe\nkmeans.labels_[0:10]",
            "execution_count": null,
            "outputs": []
        },
        {
            "metadata": {},
            "cell_type": "code",
            "source": "kmeans.labels_[0:10]",
            "execution_count": null,
            "outputs": []
        },
        {
            "metadata": {},
            "cell_type": "markdown",
            "source": "Now creating a new dataframe that includes the clusters as well as the top 10 venues for each neighbourhoods."
        },
        {
            "metadata": {},
            "cell_type": "code",
            "source": "# add clustering labels\nneighbourhoods_venues_sorted.insert(0, 'Cluster Labels', kmeans.labels_)",
            "execution_count": null,
            "outputs": []
        },
        {
            "metadata": {},
            "cell_type": "code",
            "source": "se_merged = se_df",
            "execution_count": null,
            "outputs": []
        },
        {
            "metadata": {},
            "cell_type": "code",
            "source": "se_merged.head(3)",
            "execution_count": null,
            "outputs": []
        },
        {
            "metadata": {},
            "cell_type": "code",
            "source": "# match/merge SE London data with latitude/longitude for each neighborhood\nse_merged_latlong = se_merged.join(neighbourhoods_venues_sorted.set_index('Neighbourhood'), on = 'Location')",
            "execution_count": null,
            "outputs": []
        },
        {
            "metadata": {},
            "cell_type": "code",
            "source": "se_merged_latlong.head()",
            "execution_count": null,
            "outputs": []
        },
        {
            "metadata": {},
            "cell_type": "code",
            "source": "se_clusters = se_merged_latlong",
            "execution_count": null,
            "outputs": []
        },
        {
            "metadata": {},
            "cell_type": "markdown",
            "source": "<strong>Please note, that the number of clusters was chosen as 5 for initial run.</strong><br/>\n\n<h3>3.2.5 Optimal Number of Clusters for K-mean</h3>\n\nTo get the optimal number of clusters to be used for the K-mean, there are a number ways possible for the evaluation. Therefore, in this task, the following are used:"
        },
        {
            "metadata": {},
            "cell_type": "markdown",
            "source": "1. <a href=\"#item1\">Elbow (Criterion) Method.</a>\n2. <a href=\"#item2\">Silhouette Coefficient.</a>  "
        },
        {
            "metadata": {},
            "cell_type": "markdown",
            "source": "<h3>1. Elbow Method</h3>\n\nThe elbow method is used to solve the problem of selecting k. Interestingly, the elbow method is not perfect either but it gives significant insight that is perhaps not top optimal but sub-optimal to choosing the optimal number of clusters by fitting the model with a range of values for k.<br/>\n\nThe approach for this is to run the k-means clustering for a range of value k and for each value of k, the <strong>Sum of the Squared Errors (SSE)</strong> is calculated., calculate sum of squared errors (SSE). When this is done, a plot of k and the corresponding SSEs are then made. At the elbow (just like arm), that is where the optimal value of k is. And that will be the number of clusters to be used. The whole idea is to have minimum SSE."
        },
        {
            "metadata": {},
            "cell_type": "code",
            "source": "%matplotlib inline\nimport matplotlib\nimport numpy as np",
            "execution_count": 14,
            "outputs": []
        },
        {
            "metadata": {},
            "cell_type": "code",
            "source": "from sklearn.cluster import KMeans\nimport matplotlib.pyplot as plt\n\n# SSE is initialize with empty values\n# n_clusters is the \"k\" \nsse = {}\nfor n_cluster1 in range(2, 10):\n    kmeans1 = KMeans(n_clusters = n_cluster1, max_iter = 500).fit(se_grouped_clustering)\n    se_grouped_clustering[\"clusters\"] = kmeans1.labels_\n    \n    # The inertia is the sum of distances of samples to their closest cluster centre\n    sse[n_cluster1] = kmeans1.inertia_ \nplt.figure()\nplt.plot(list(sse.keys()), list(sse.values()))\nplt.xlabel(\"Number of Clusters, k\")\nplt.ylabel(\"Sum of Squared Error, SSE\")\n# vertical line\nplt.vlines(3, ymin = -2, ymax = 45, colors = 'red')\nplt.show()",
            "execution_count": 15,
            "outputs": [
                {
                    "output_type": "error",
                    "ename": "NameError",
                    "evalue": "name 'se_grouped_clustering' is not defined",
                    "traceback": [
                        "\u001b[0;31m---------------------------------------------------------------------------\u001b[0m",
                        "\u001b[0;31mNameError\u001b[0m                                 Traceback (most recent call last)",
                        "\u001b[0;32m<ipython-input-15-ee71dfe8a52d>\u001b[0m in \u001b[0;36m<module>\u001b[0;34m\u001b[0m\n\u001b[1;32m      6\u001b[0m \u001b[0msse\u001b[0m \u001b[0;34m=\u001b[0m \u001b[0;34m{\u001b[0m\u001b[0;34m}\u001b[0m\u001b[0;34m\u001b[0m\u001b[0;34m\u001b[0m\u001b[0m\n\u001b[1;32m      7\u001b[0m \u001b[0;32mfor\u001b[0m \u001b[0mn_cluster1\u001b[0m \u001b[0;32min\u001b[0m \u001b[0mrange\u001b[0m\u001b[0;34m(\u001b[0m\u001b[0;36m2\u001b[0m\u001b[0;34m,\u001b[0m \u001b[0;36m10\u001b[0m\u001b[0;34m)\u001b[0m\u001b[0;34m:\u001b[0m\u001b[0;34m\u001b[0m\u001b[0;34m\u001b[0m\u001b[0m\n\u001b[0;32m----> 8\u001b[0;31m     \u001b[0mkmeans1\u001b[0m \u001b[0;34m=\u001b[0m \u001b[0mKMeans\u001b[0m\u001b[0;34m(\u001b[0m\u001b[0mn_clusters\u001b[0m \u001b[0;34m=\u001b[0m \u001b[0mn_cluster1\u001b[0m\u001b[0;34m,\u001b[0m \u001b[0mmax_iter\u001b[0m \u001b[0;34m=\u001b[0m \u001b[0;36m500\u001b[0m\u001b[0;34m)\u001b[0m\u001b[0;34m.\u001b[0m\u001b[0mfit\u001b[0m\u001b[0;34m(\u001b[0m\u001b[0mse_grouped_clustering\u001b[0m\u001b[0;34m)\u001b[0m\u001b[0;34m\u001b[0m\u001b[0;34m\u001b[0m\u001b[0m\n\u001b[0m\u001b[1;32m      9\u001b[0m     \u001b[0mse_grouped_clustering\u001b[0m\u001b[0;34m[\u001b[0m\u001b[0;34m\"clusters\"\u001b[0m\u001b[0;34m]\u001b[0m \u001b[0;34m=\u001b[0m \u001b[0mkmeans1\u001b[0m\u001b[0;34m.\u001b[0m\u001b[0mlabels_\u001b[0m\u001b[0;34m\u001b[0m\u001b[0;34m\u001b[0m\u001b[0m\n\u001b[1;32m     10\u001b[0m \u001b[0;34m\u001b[0m\u001b[0m\n",
                        "\u001b[0;31mNameError\u001b[0m: name 'se_grouped_clustering' is not defined"
                    ]
                }
            ]
        },
        {
            "metadata": {},
            "cell_type": "markdown",
            "source": "Depending on the number of iteration (in this case, 500 iterations were used), the number of cluster, k is 3.<br/>\n\n<h3>2. Silhouette Coefficient</h3>\n\nTo find the optimal value of the number of clusters, k, the number of clusters is iterated corresponding Silhouette Coefficientis calculated for each of the k-values used. The highest Silhouette Coefficient gives the best match to its own cluster. Please see below :"
        },
        {
            "metadata": {},
            "cell_type": "code",
            "source": "from sklearn.metrics import silhouette_score\nfrom sklearn.cluster import KMeans\n\nfor n_cluster2 in range(2, 10):\n    kmeans2 = KMeans(n_clusters = n_cluster2, random_state = 0).fit(se_grouped_clustering)\n    label2 = kmeans2.labels_\n    sil_coeff = silhouette_score(se_grouped_clustering, label2, metric = 'euclidean')\n    print(\"Where n_clusters = {}, the Silhouette Coefficient is {}\".format(n_cluster2, sil_coeff))",
            "execution_count": 16,
            "outputs": [
                {
                    "output_type": "error",
                    "ename": "NameError",
                    "evalue": "name 'se_grouped_clustering' is not defined",
                    "traceback": [
                        "\u001b[0;31m---------------------------------------------------------------------------\u001b[0m",
                        "\u001b[0;31mNameError\u001b[0m                                 Traceback (most recent call last)",
                        "\u001b[0;32m<ipython-input-16-5d415e8094b7>\u001b[0m in \u001b[0;36m<module>\u001b[0;34m\u001b[0m\n\u001b[1;32m      3\u001b[0m \u001b[0;34m\u001b[0m\u001b[0m\n\u001b[1;32m      4\u001b[0m \u001b[0;32mfor\u001b[0m \u001b[0mn_cluster2\u001b[0m \u001b[0;32min\u001b[0m \u001b[0mrange\u001b[0m\u001b[0;34m(\u001b[0m\u001b[0;36m2\u001b[0m\u001b[0;34m,\u001b[0m \u001b[0;36m10\u001b[0m\u001b[0;34m)\u001b[0m\u001b[0;34m:\u001b[0m\u001b[0;34m\u001b[0m\u001b[0;34m\u001b[0m\u001b[0m\n\u001b[0;32m----> 5\u001b[0;31m     \u001b[0mkmeans2\u001b[0m \u001b[0;34m=\u001b[0m \u001b[0mKMeans\u001b[0m\u001b[0;34m(\u001b[0m\u001b[0mn_clusters\u001b[0m \u001b[0;34m=\u001b[0m \u001b[0mn_cluster2\u001b[0m\u001b[0;34m,\u001b[0m \u001b[0mrandom_state\u001b[0m \u001b[0;34m=\u001b[0m \u001b[0;36m0\u001b[0m\u001b[0;34m)\u001b[0m\u001b[0;34m.\u001b[0m\u001b[0mfit\u001b[0m\u001b[0;34m(\u001b[0m\u001b[0mse_grouped_clustering\u001b[0m\u001b[0;34m)\u001b[0m\u001b[0;34m\u001b[0m\u001b[0;34m\u001b[0m\u001b[0m\n\u001b[0m\u001b[1;32m      6\u001b[0m     \u001b[0mlabel2\u001b[0m \u001b[0;34m=\u001b[0m \u001b[0mkmeans2\u001b[0m\u001b[0;34m.\u001b[0m\u001b[0mlabels_\u001b[0m\u001b[0;34m\u001b[0m\u001b[0;34m\u001b[0m\u001b[0m\n\u001b[1;32m      7\u001b[0m     \u001b[0msil_coeff\u001b[0m \u001b[0;34m=\u001b[0m \u001b[0msilhouette_score\u001b[0m\u001b[0;34m(\u001b[0m\u001b[0mse_grouped_clustering\u001b[0m\u001b[0;34m,\u001b[0m \u001b[0mlabel2\u001b[0m\u001b[0;34m,\u001b[0m \u001b[0mmetric\u001b[0m \u001b[0;34m=\u001b[0m \u001b[0;34m'euclidean'\u001b[0m\u001b[0;34m)\u001b[0m\u001b[0;34m\u001b[0m\u001b[0;34m\u001b[0m\u001b[0m\n",
                        "\u001b[0;31mNameError\u001b[0m: name 'se_grouped_clustering' is not defined"
                    ]
                }
            ]
        },
        {
            "metadata": {},
            "cell_type": "markdown",
            "source": "From the result, the high the n_clusters the better the silhouette coefficient. For this project, a cluster value of 5 will be used."
        },
        {
            "metadata": {},
            "cell_type": "code",
            "source": "se_clusters.columns",
            "execution_count": null,
            "outputs": []
        },
        {
            "metadata": {},
            "cell_type": "markdown",
            "source": "<h3>3.2.6 Visualizing the Resulting Clusters</h3>"
        },
        {
            "metadata": {},
            "cell_type": "code",
            "source": "# create map\nmap_clusters = folium.Map(location=[latitude, longitude], zoom_start=11)\n\n# set color scheme for the clusters\nx = np.arange(kclusters)\nys = [i + x + (i*x)**2 for i in range(kclusters)]\ncolors_array = cm.rainbow(np.linspace(0, 1, len(ys)))\nrainbow = [colors.rgb2hex(i) for i in colors_array]\n\n# add markers to the map\nmarkers_colors = []\nfor lat, lon, poi, cluster in zip(se_clusters['Latitude'], se_clusters['Longitude'], se_clusters['Location'], se_clusters['Cluster Labels']):\n    label = folium.Popup(str(poi) + ' Cluster ' + str(cluster), parse_html=True)\n    folium.CircleMarker(\n        [lat, lon],\n        radius=20,\n        popup=label,\n        color=rainbow[cluster-1],\n        fill=True,\n        fill_color=rainbow[cluster-1],\n        fill_opacity=0.7).add_to(map_clusters)\n\ndisplay(map_clusters)",
            "execution_count": null,
            "outputs": []
        },
        {
            "metadata": {},
            "cell_type": "markdown",
            "source": "><b>Cluster 1</b>"
        },
        {
            "metadata": {},
            "cell_type": "code",
            "source": "se_clusters.loc[se_clusters['Cluster Labels'] == 0, se_clusters.columns[[1] + list(range(5, se_clusters.shape[1]))]]",
            "execution_count": null,
            "outputs": []
        },
        {
            "metadata": {},
            "cell_type": "markdown",
            "source": "><b>Clusters 2</b>"
        },
        {
            "metadata": {},
            "cell_type": "code",
            "source": "se_clusters.loc[se_clusters['Cluster Labels'] == 1, se_clusters.columns[[1] + list(range(5, se_clusters.shape[1]))]]",
            "execution_count": null,
            "outputs": []
        },
        {
            "metadata": {},
            "cell_type": "markdown",
            "source": "><b>Cluster 3</b>"
        },
        {
            "metadata": {},
            "cell_type": "code",
            "source": "se_clusters.loc[se_clusters['Cluster Labels'] == 2, se_clusters.columns[[1] + list(range(5, se_clusters.shape[1]))]]",
            "execution_count": null,
            "outputs": []
        },
        {
            "metadata": {},
            "cell_type": "markdown",
            "source": "><b>Cluster 4</b>"
        },
        {
            "metadata": {},
            "cell_type": "code",
            "source": "se_clusters.loc[se_clusters['Cluster Labels'] == 3, se_clusters.columns[[1] + list(range(5, se_clusters.shape[1]))]]",
            "execution_count": null,
            "outputs": []
        },
        {
            "metadata": {},
            "cell_type": "markdown",
            "source": " ><b>Cluster 5</b>"
        },
        {
            "metadata": {},
            "cell_type": "code",
            "source": "se_clusters.loc[se_clusters['Cluster Labels'] == 4, se_clusters.columns[[1] + list(range(5, se_clusters.shape[1]))]]",
            "execution_count": null,
            "outputs": []
        },
        {
            "metadata": {},
            "cell_type": "markdown",
            "source": "<h3>4. Result</h3>\n\nThe following are the highlights of the 5 clusters above :<br/>\n\n1. Pubs, Cafe, Coffee Shops are popular in the South East London. <br/>\n2. As for restaurants, the Italian Restaurants are very popular in the South East London area. Especially in Southwark and Lambeth areas. <br/>\n3. With the Lewisham area being the most condensed area of Africans in the South East Area, it is surprising to see how in the top 10 venues, you can barely see restaurants in the top 5 venues. <br/>\n4. Although, the Clusters have variations, a very visible presence is the predominance of pubs."
        },
        {
            "metadata": {},
            "cell_type": "markdown",
            "source": "<h3>5. Discussion and Conclusion</h3>\n    \nIt is very important to note that Clusters 2 and 3 are the most viable clusters to create a brand African Restaurant. Their proximity to other amenities and accessibility to station are paramount. These 2 clusters do not have top restaurants that could rival their standards if they are created. And the proximity to resources needed is paramount as Lewisham and Lambeth are not far out from Peckham (under Southwark).<br/>\n\nIn conclusion, this project would have had better results if there were more data in terms of crime data within the area, traffic access and allowance of more venues exploration with the Foursquare (limited venues for free calls).<br/>\n\nAlso, getting the ratings and feedbacks of the current restaurants within the clusters would have helped in providing more insight into the best location."
        }
    ],
    "metadata": {
        "kernelspec": {
            "name": "python3",
            "display_name": "Python 3.6",
            "language": "python"
        },
        "language_info": {
            "name": "python",
            "version": "3.6.8",
            "mimetype": "text/x-python",
            "codemirror_mode": {
                "name": "ipython",
                "version": 3
            },
            "pygments_lexer": "ipython3",
            "nbconvert_exporter": "python",
            "file_extension": ".py"
        }
    },
    "nbformat": 4,
    "nbformat_minor": 1
}